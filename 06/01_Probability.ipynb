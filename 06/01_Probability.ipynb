{
 "cells": [
  {
   "cell_type": "markdown",
   "metadata": {},
   "source": [
    "# 機率(Probability)"
   ]
  },
  {
   "cell_type": "markdown",
   "metadata": {},
   "source": [
    "## 定義： \n",
    "### 實驗(experiment 或 trial)：針對不確定的狀況進行實驗，例如購買樂透。\n",
    "### 樣本空間(sample space)：實驗所有可能出現的結果，例如擲骰子一次，樣本空間有6個可能的結果。\n",
    "### 樣本點(sample point)：單一的結果，例如擲骰子出現一點。\n",
    "### 事件(event)：單次實驗發生的結果，例如擲硬幣兩次，出現一正一反。\n",
    "### 機率(Probability)：某種事件發生的可能性，例如擲硬幣兩次，出現一正一反，依下列公式計算，機率是2/4。\n",
    "## $\\begin{equation}\\text{事件發生的機率(probability of an event)} = \\frac{\\text{某種事件的樣本點}}{\\text{樣本空間的所有樣本點}} \\end{equation}$。\n",
    "### 機率介於[0, 1]之間。"
   ]
  },
  {
   "attachments": {},
   "cell_type": "markdown",
   "metadata": {},
   "source": [
    "## Quiz 1. 進行一實驗，擲骰子2次，請說明：\n",
    "### 樣本空間(sample space)=?\n",
    "### 請舉出任一種事件(event)=?\n",
    "### 該事件之機率(Probability)=?"
   ]
  },
  {
   "cell_type": "markdown",
   "metadata": {},
   "source": [
    "## Quiz 2. 抽兩張牌，抽出不放回(Without replacement)，出現黑桃3及紅桃3的機率=?\n",
    "## Quiz 3. 抽兩張牌，抽出放回(With replacement)，出現黑桃3及紅桃3的機率=?"
   ]
  },
  {
   "cell_type": "code",
   "execution_count": null,
   "metadata": {},
   "outputs": [],
   "source": []
  },
  {
   "attachments": {},
   "cell_type": "markdown",
   "metadata": {},
   "source": [
    "### 機率數學符號(Probability Notation)\n",
    "### $\\begin{equation}P(A)\\end{equation}$ ：事件A的機率(P)。\n",
    "\n",
    "### 因為 事件機率 + 事件的反面機率 = 1，有時候使用事件的反面計算機率會比較容易，例如，要計算擲骰子兩次，總和>4，不如先算總和<=4，再以1相減。\n",
    "### 計算擲骰子兩次，總和>4機率 = 1 - $\\begin{equation}\\frac{\\text{總和<=4的樣本點}}{\\text{樣本空間的所有樣本點}} \\end{equation}$ = 1 - 6/36 = 5/6。 \n",
    "### 總和<=4 樣本點：(1,1)、(1,2)、(1,3)、(2,1)、(2, 2)、(3,1) 共6個。"
   ]
  },
  {
   "cell_type": "code",
   "execution_count": null,
   "metadata": {},
   "outputs": [],
   "source": []
  },
  {
   "cell_type": "markdown",
   "metadata": {},
   "source": [
    "## 偏差(Bias)\n",
    "### 樣本點發生的機率不等，例如天氣，出現晴天的機率為 60%, 多雲為 30%, 雨天為 10%。\n",
    "### 下週天氣預報如下：\n",
    "<table>\n",
    "<tr><td style='text-align:center'>Mon</td><td style='text-align:center'>Tue</td><td style='text-align:center'>Wed</td><td style='text-align:center'>Thu</td><td style='text-align:center'>Fri</td><td style='text-align:center'>Sat</td><td style='text-align:center'>Sun</td></tr>\n",
    "<tr style='font-size:32px'><td>&#9729;</td><td>&#9730;</td><td>&#9728;</td><td>&#9728;</td><td>&#9728;</td><td>&#9729;</td><td>&#9728;</td></tr>\n",
    "</table>\n",
    "\n",
    "###  $\\begin{equation}P(晴天)=4/7\\;\\;\\;\\; P(多雲)=2/7\\;\\;\\;\\; P(雨天)=1/7 \\end{equation}$"
   ]
  },
  {
   "cell_type": "markdown",
   "metadata": {},
   "source": [
    "## 相依性(Dependence)\n",
    "### 兩個事件間的關係：\n",
    "#### - 獨立(Independent)：事件不受其他事件影響，例如抽兩張牌，抽出放回(With replacement)，出現黑桃3及紅桃6的機率。\n",
    "#### - 相依(Dependent)：事件會受其他事件影響，例如抽兩張牌，抽出不放回(Without replacement)，出現黑桃3及紅桃6的機率。"
   ]
  },
  {
   "cell_type": "markdown",
   "metadata": {},
   "source": [
    "## Quiz 4. 抽一張牌，抽出A或黑桃的機率=?"
   ]
  },
  {
   "cell_type": "code",
   "execution_count": null,
   "metadata": {},
   "outputs": [],
   "source": []
  },
  {
   "cell_type": "markdown",
   "metadata": {},
   "source": [
    "## 獨立事件(Independent Events)：\n",
    "### 抽出放回(With replacement)，分別出現黑桃3(A) 及紅桃6(B) ==> P(A) * P(B) ==> 1/52 * 1/52 = 1/(52 * 52)。"
   ]
  },
  {
   "cell_type": "markdown",
   "metadata": {},
   "source": [
    "## 如果事件是獨立的，擲很多次硬板，正/反面出現的機率應該是接近 50%"
   ]
  },
  {
   "cell_type": "code",
   "execution_count": 1,
   "metadata": {},
   "outputs": [
    {
     "name": "stdout",
     "output_type": "stream",
     "text": [
      "[4919, 5081]\n"
     ]
    },
    {
     "data": {
      "image/png": "[encoded data removed]",
      "text/plain": [
       "<Figure size 500x500 with 1 Axes>"
      ]
     },
     "metadata": {},
     "output_type": "display_data"
    }
   ],
   "source": [
    "import random\n",
    "\n",
    "# 正反面出現次數，初始值為0\n",
    "heads_tails = [0, 0]\n",
    "\n",
    "# 丟 10000 次硬板\n",
    "trials = 10000\n",
    "trial = 0\n",
    "while trial < trials:\n",
    "    trial = trial + 1\n",
    "    # 隨機亂數\n",
    "    toss = random.randint(0,1)\n",
    "    # 累計正反面出現次數\n",
    "    heads_tails[toss] += 1\n",
    "\n",
    "print (heads_tails)\n",
    "\n",
    "# 繪圖\n",
    "from matplotlib import pyplot as plt\n",
    "plt.figure(figsize=(5,5))\n",
    "plt.pie(heads_tails, labels=['heads', 'tails'])\n",
    "plt.legend()\n",
    "plt.show()"
   ]
  },
  {
   "cell_type": "markdown",
   "metadata": {},
   "source": [
    "## 條件機率(Conditional Probability)：事件A發生的情況下，又發生事件B的機率。\n",
    "### $\\begin{equation}P(B|A) = \\frac{P(A \\cap B)}{P(A)}\\end{equation}$\n",
    "### 如果事件A、B事件是獨立的：$\\begin{equation}P(B|A) = P(A \\cap B)\\end{equation}$\n",
    "\n",
    "## $\\begin{equation}P(A \\cap B)\\end{equation}$：聯合機率(Joint Probability)，事件A、B同時發生的機率。\n",
    "### 如果事件A、B事件是獨立的，同時發生的機率：$\\begin{equation}P(A \\cap B) = P(A) \\times P(B)\\end{equation}$"
   ]
  },
  {
   "cell_type": "code",
   "execution_count": null,
   "metadata": {},
   "outputs": [],
   "source": []
  },
  {
   "attachments": {},
   "cell_type": "markdown",
   "metadata": {},
   "source": [
    "## 交集與聯集(Intersections and Unions)：樣本集合A與B的關係。\n",
    "### 聯集：事件A或B發生的機率，$\\begin{equation}P(A \\cup B)\\end{equation}$。\n",
    "### 交集：事件A且B發生的機率，$\\begin{equation}P(A \\cap B)\\end{equation}$。\n",
    "### 定理：$\\begin{equation}P(A \\cup B) = P(A) + P(B) - P(A \\cap B)\\end{equation}$\n",
    "### 如果事件A、B事件是互斥的，\n",
    "### $\\begin{equation}P(A \\cup B) = P(A) + P(B)\\end{equation}$\n",
    "\n",
    "### 互斥(Mutually Exclusive)：事件不會同時發生，例如擲一次硬幣，出現正面或反面，兩者不會同時發生。"
   ]
  },
  {
   "cell_type": "code",
   "execution_count": null,
   "metadata": {},
   "outputs": [],
   "source": []
  },
  {
   "cell_type": "markdown",
   "metadata": {},
   "source": [
    "# 二項分配(Binomial Distribution)\n",
    "\n",
    "## Bernoulli 分配：作一次二分類的實驗。\n",
    "## Binomial 分配：作多次二分類的實驗。\n",
    "## Multinomial 分配：作多次多分類的實驗。"
   ]
  },
  {
   "attachments": {},
   "cell_type": "markdown",
   "metadata": {},
   "source": [
    "## Quiz 5. 舉例說明：\n",
    "### 伯努利(Bernoulli) 分配。\n",
    "### 二項(Binomial) 分配。\n",
    "### 多項(Multinomial) 分配。"
   ]
  },
  {
   "cell_type": "markdown",
   "metadata": {},
   "source": [
    "## 範例. 擲硬幣3次，擲出正面個數有四種情況：x = {0,1,2,3}。\n",
    "### $\\begin{equation}P(x=0) = \\frac{1}{8}\\end{equation}$\n",
    "### $\\begin{equation}P(x=1) = \\frac{3}{8}\\end{equation}$\n",
    "### $\\begin{equation}P(x=2) = \\frac{3}{8}\\end{equation}$\n",
    "### $\\begin{equation}P(x=3) = \\frac{1}{8}\\end{equation}$"
   ]
  },
  {
   "cell_type": "markdown",
   "metadata": {},
   "source": [
    "## 排列：$\\begin{equation}_{n}P_{k} = \\frac{n!}{(n-k)!}\\end{equation}$\n",
    "## 組合：$\\begin{equation}_{n}C_{k}\\end{equation}$ 或 $\\begin{equation}\\begin{pmatrix} n \\\\ k\\end{pmatrix} = \\frac{n!}{k!(n-k)!}\\end{equation}$\n"
   ]
  },
  {
   "cell_type": "markdown",
   "metadata": {},
   "source": [
    "# 排列(permutation)"
   ]
  },
  {
   "cell_type": "code",
   "execution_count": 3,
   "metadata": {},
   "outputs": [
    {
     "name": "stdout",
     "output_type": "stream",
     "text": [
      "6\n",
      "[(1, 2, 3), (1, 3, 2), (2, 1, 3), (2, 3, 1), (3, 1, 2), (3, 2, 1)]\n"
     ]
    }
   ],
   "source": [
    "from itertools import permutations \n",
    "\n",
    "# 排列 [1, 2, 3] \n",
    "perm = permutations([1, 2, 3]) \n",
    "\n",
    "list1 = list(perm)\n",
    "print(len(list1))\n",
    "print(list1)"
   ]
  },
  {
   "cell_type": "code",
   "execution_count": 4,
   "metadata": {},
   "outputs": [
    {
     "name": "stdout",
     "output_type": "stream",
     "text": [
      "6\n",
      "[(1, 2), (1, 3), (2, 1), (2, 3), (3, 1), (3, 2)]\n"
     ]
    }
   ],
   "source": [
    "# 排列，3 取 2\n",
    "perm = permutations([1, 2, 3], 2) \n",
    "\n",
    "list1 = list(perm)\n",
    "print(len(list1))\n",
    "print(list1)"
   ]
  },
  {
   "cell_type": "code",
   "execution_count": 5,
   "metadata": {},
   "outputs": [
    {
     "data": {
      "text/plain": [
       "6"
      ]
     },
     "execution_count": 5,
     "metadata": {},
     "output_type": "execute_result"
    }
   ],
   "source": [
    "# 使用階層驗算\n",
    "import math\n",
    "\n",
    "math.factorial(3)"
   ]
  },
  {
   "cell_type": "code",
   "execution_count": 6,
   "metadata": {},
   "outputs": [
    {
     "data": {
      "text/plain": [
       "6.0"
      ]
     },
     "execution_count": 6,
     "metadata": {},
     "output_type": "execute_result"
    }
   ],
   "source": [
    "# 排列，3 取 2\n",
    "math.factorial(3) / math.factorial(3-2)"
   ]
  },
  {
   "cell_type": "markdown",
   "metadata": {},
   "source": [
    "# 組合(combination)"
   ]
  },
  {
   "cell_type": "code",
   "execution_count": 8,
   "metadata": {},
   "outputs": [
    {
     "name": "stdout",
     "output_type": "stream",
     "text": [
      "3\n",
      "[(1, 2), (1, 3), (2, 3)]\n"
     ]
    }
   ],
   "source": [
    "# 組合，3 取 2\n",
    "from itertools import combinations \n",
    "comb = combinations([1, 2, 3], 2) \n",
    "\n",
    "list1 = list(comb)\n",
    "print(len(list1))\n",
    "print(list1)"
   ]
  },
  {
   "cell_type": "code",
   "execution_count": 10,
   "metadata": {},
   "outputs": [
    {
     "data": {
      "text/plain": [
       "1.0"
      ]
     },
     "execution_count": 10,
     "metadata": {},
     "output_type": "execute_result"
    }
   ],
   "source": [
    "# 組合，3 取 0，使用階層驗算\n",
    "math.factorial(3) / (math.factorial(3-0) * math.factorial(0))"
   ]
  },
  {
   "cell_type": "code",
   "execution_count": 11,
   "metadata": {},
   "outputs": [
    {
     "data": {
      "text/plain": [
       "3.0"
      ]
     },
     "execution_count": 11,
     "metadata": {},
     "output_type": "execute_result"
    }
   ],
   "source": [
    "# 組合，3 取 1，使用階層驗算\n",
    "math.factorial(3) / (math.factorial(3-1) * math.factorial(1))"
   ]
  },
  {
   "cell_type": "code",
   "execution_count": 12,
   "metadata": {},
   "outputs": [
    {
     "data": {
      "text/plain": [
       "3.0"
      ]
     },
     "execution_count": 12,
     "metadata": {},
     "output_type": "execute_result"
    }
   ],
   "source": [
    "# 組合，3 取 2，使用階層驗算\n",
    "math.factorial(3) / (math.factorial(3-2) * math.factorial(2))"
   ]
  },
  {
   "cell_type": "code",
   "execution_count": 13,
   "metadata": {},
   "outputs": [
    {
     "data": {
      "text/plain": [
       "1.0"
      ]
     },
     "execution_count": 13,
     "metadata": {},
     "output_type": "execute_result"
    }
   ],
   "source": [
    "# 組合，3 取 3，使用階層驗算\n",
    "math.factorial(3) / (math.factorial(3-3) * math.factorial(3))"
   ]
  },
  {
   "cell_type": "markdown",
   "metadata": {},
   "source": [
    "# 使用 scipy"
   ]
  },
  {
   "cell_type": "code",
   "execution_count": 14,
   "metadata": {},
   "outputs": [
    {
     "data": {
      "text/plain": [
       "(1.0, 3.0, 3.0, 1.0)"
      ]
     },
     "execution_count": 14,
     "metadata": {},
     "output_type": "execute_result"
    }
   ],
   "source": [
    "# 組合(Combination)\n",
    "import scipy.special as sps\n",
    "\n",
    "sps.comb(3, 0), sps.comb(3, 1), sps.comb(3, 2), sps.comb(3, 3)"
   ]
  },
  {
   "cell_type": "code",
   "execution_count": 15,
   "metadata": {},
   "outputs": [
    {
     "data": {
      "text/plain": [
       "8"
      ]
     },
     "execution_count": 15,
     "metadata": {},
     "output_type": "execute_result"
    }
   ],
   "source": [
    "# 樣本空間\n",
    "all = 2**3\n",
    "all"
   ]
  },
  {
   "cell_type": "code",
   "execution_count": 16,
   "metadata": {},
   "outputs": [
    {
     "data": {
      "text/plain": [
       "(0.125, 0.375, 0.375, 0.125)"
      ]
     },
     "execution_count": 16,
     "metadata": {},
     "output_type": "execute_result"
    }
   ],
   "source": [
    "# 計算機率\n",
    "sps.comb(3, 0) / all, sps.comb(3, 1) / all, sps.comb(3, 2) / all, sps.comb(3, 3) / all"
   ]
  },
  {
   "cell_type": "code",
   "execution_count": 17,
   "metadata": {},
   "outputs": [
    {
     "data": {
      "image/png": "[encoded data removed]",
      "text/plain": [
       "<Figure size 640x480 with 1 Axes>"
      ]
     },
     "metadata": {},
     "output_type": "display_data"
    }
   ],
   "source": [
    "# 繪圖\n",
    "from matplotlib import pyplot as plt\n",
    "import numpy as np\n",
    "\n",
    "trials = 3\n",
    "possibilities = 2**trials\n",
    "x = np.array(range(0, trials+1))\n",
    "\n",
    "# If exact is False, then floating point precision is used, otherwise exact long integer is computed.\n",
    "p = np.array([sps.comb(trials, i, exact=True)/possibilities for i in x])\n",
    "\n",
    "# Set up the graph\n",
    "plt.xlabel('Successes')\n",
    "plt.ylabel('Probability')\n",
    "plt.xticks([0,1,2,3])\n",
    "plt.bar(x, p)\n",
    "plt.show()"
   ]
  },
  {
   "cell_type": "markdown",
   "metadata": {},
   "source": [
    "## 偏差(Bias)，即樣本點發生的機率不等，需額外乘以下列多項式。\n",
    "### $\\begin{equation}p^{k}(1-p)^{(n-k)}\\end{equation}$\n",
    "### 二項分配的機率質量函數(pmf)為：\n",
    "### $\\begin{equation}P(x=k)  = \\frac{n!}{k!(n-k)!} p^{k}(1-p)^{(n-k)}\\end{equation}$\n",
    "### 可使用 binom.pmf 函數計算二項分配機率。"
   ]
  },
  {
   "cell_type": "markdown",
   "metadata": {},
   "source": [
    "## Quiz 6. \n",
    "### 糖果工廠生產糖果袋，會在袋中放一顆酸梅的機率是40%，請問買5袋糖果，其中3袋糖果含酸梅，2袋糖果不含酸梅的機率是多少?"
   ]
  },
  {
   "cell_type": "markdown",
   "metadata": {},
   "source": [
    "## 二項分配繪圖"
   ]
  },
  {
   "cell_type": "code",
   "execution_count": 7,
   "metadata": {},
   "outputs": [
    {
     "data": {
      "image/png": "[encoded data removed]",
      "text/plain": [
       "<Figure size 640x480 with 1 Axes>"
      ]
     },
     "metadata": {},
     "output_type": "display_data"
    }
   ],
   "source": [
    "import numpy as np\n",
    "from matplotlib import pyplot as plt\n",
    "from scipy.stats import binom\n",
    "\n",
    "n = 100\n",
    "p = 0.25\n",
    "x = np.array(range(0, n+1))\n",
    "\n",
    "prob = [binom.pmf(k, n, p) for k in x]\n",
    "\n",
    "# Set up the graph\n",
    "plt.xlabel('x')\n",
    "plt.ylabel('Probability')\n",
    "plt.bar(x, prob)\n",
    "plt.xlim(0, 60)\n",
    "\n",
    "plt.show()"
   ]
  },
  {
   "cell_type": "markdown",
   "metadata": {},
   "source": [
    "## 二項分配的平均數、變異數及標準差公式\n",
    "### 平均數(Mean) ：$\\begin{equation}\\mu  = np\\end{equation}$\n",
    "### 變異數：$\\begin{equation}\\sigma^{2}  = np(1-p)\\end{equation}$\n",
    "### 標準差： $\\begin{equation}\\sigma  = \\sqrt{np(1-p)}\\end{equation}$"
   ]
  },
  {
   "cell_type": "markdown",
   "metadata": {},
   "source": [
    "## Wiki\n",
    "https://en.wikipedia.org/wiki/Binomial_distribution"
   ]
  },
  {
   "cell_type": "code",
   "execution_count": 15,
   "metadata": {
    "scrolled": true
   },
   "outputs": [
    {
     "name": "stdout",
     "output_type": "stream",
     "text": [
      "25.0\n",
      "18.75\n",
      "4.330127018922194\n"
     ]
    }
   ],
   "source": [
    "from scipy.stats import binom\n",
    "\n",
    "n = 100\n",
    "p = 0.25\n",
    "\n",
    "print(binom.mean(n,p))\n",
    "print(binom.var(n,p))\n",
    "print(binom.std(n,p))"
   ]
  },
  {
   "cell_type": "code",
   "execution_count": 15,
   "metadata": {},
   "outputs": [
    {
     "data": {
      "text/plain": [
       "25.0"
      ]
     },
     "execution_count": 15,
     "metadata": {},
     "output_type": "execute_result"
    }
   ],
   "source": [
    "# 驗算\n",
    "n*p"
   ]
  },
  {
   "cell_type": "code",
   "execution_count": 16,
   "metadata": {},
   "outputs": [
    {
     "data": {
      "text/plain": [
       "18.75"
      ]
     },
     "execution_count": 16,
     "metadata": {},
     "output_type": "execute_result"
    }
   ],
   "source": [
    "# 驗算\n",
    "n*p*(1-p)"
   ]
  },
  {
   "cell_type": "code",
   "execution_count": null,
   "metadata": {},
   "outputs": [],
   "source": []
  }
 ],
 "metadata": {
  "kernelspec": {
   "display_name": "Python 3 (ipykernel)",
   "language": "python",
   "name": "python3"
  },
  "language_info": {
   "codemirror_mode": {
    "name": "ipython",
    "version": 3
   },
   "file_extension": ".py",
   "mimetype": "text/x-python",
   "name": "python",
   "nbconvert_exporter": "python",
   "pygments_lexer": "ipython3",
   "version": "3.9.13"
  }
 },
 "nbformat": 4,
 "nbformat_minor": 2
}
