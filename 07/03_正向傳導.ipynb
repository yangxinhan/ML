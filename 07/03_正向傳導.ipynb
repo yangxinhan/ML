{
 "cells": [
  {
   "attachments": {},
   "cell_type": "markdown",
   "id": "e95da2c9",
   "metadata": {},
   "source": [
    "# 正向傳導程式撰寫"
   ]
  },
  {
   "cell_type": "code",
   "execution_count": 7,
   "id": "8b38077e",
   "metadata": {},
   "outputs": [
    {
     "data": {
      "text/plain": [
       "array([[ 26, -13]])"
      ]
     },
     "execution_count": 7,
     "metadata": {},
     "output_type": "execute_result"
    }
   ],
   "source": [
    "input = np.array([3,5]).reshape(1,2)\n",
    "w1 = np.array([2,4,4,-5]).reshape(2,2)\n",
    "layer1 = input @ w1\n",
    "layer1"
   ]
  },
  {
   "cell_type": "code",
   "execution_count": 8,
   "id": "0fdd2af4",
   "metadata": {},
   "outputs": [
    {
     "data": {
      "text/plain": [
       "array([[-39,  26]])"
      ]
     },
     "execution_count": 8,
     "metadata": {},
     "output_type": "execute_result"
    }
   ],
   "source": [
    "w2 = np.array([-1,2,1,2]).reshape(2,2)\n",
    "layer2 = layer1 @ w2\n",
    "layer2"
   ]
  },
  {
   "cell_type": "code",
   "execution_count": 9,
   "id": "3caff8aa",
   "metadata": {},
   "outputs": [
    {
     "data": {
      "text/plain": [
       "array([[299]])"
      ]
     },
     "execution_count": 9,
     "metadata": {},
     "output_type": "execute_result"
    }
   ],
   "source": [
    "w3 = np.array([-3,7]).reshape(2,1)\n",
    "output = layer2 @ w3\n",
    "output"
   ]
  },
  {
   "cell_type": "code",
   "execution_count": null,
   "id": "4cc1a127",
   "metadata": {},
   "outputs": [],
   "source": []
  }
 ],
 "metadata": {
  "kernelspec": {
   "display_name": "Python 3 (ipykernel)",
   "language": "python",
   "name": "python3"
  },
  "language_info": {
   "codemirror_mode": {
    "name": "ipython",
    "version": 3
   },
   "file_extension": ".py",
   "mimetype": "text/x-python",
   "name": "python",
   "nbconvert_exporter": "python",
   "pygments_lexer": "ipython3",
   "version": "3.9.13"
  }
 },
 "nbformat": 4,
 "nbformat_minor": 5
}
