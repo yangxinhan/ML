{
 "cells": [
  {
   "cell_type": "code",
   "execution_count": 9,
   "metadata": {},
   "outputs": [
    {
     "name": "stdout",
     "output_type": "stream",
     "text": [
      "[-5.    4.   -3.2   2.56 -2.05  1.64 -1.31  1.05 -0.84  0.67 -0.54  0.43\n",
      " -0.34  0.27 -0.22  0.18 -0.14  0.11 -0.09  0.07 -0.06  0.05 -0.04  0.03\n",
      " -0.02  0.02 -0.02  0.01 -0.01  0.01 -0.01  0.   -0.    0.   -0.    0.\n",
      " -0.    0.   -0.    0.   -0.    0.   -0.    0.   -0.    0.   -0.    0.\n",
      " -0.    0.   -0.    0.   -0.    0.   -0.    0.   -0.    0.   -0.    0.\n",
      " -0.    0.   -0.    0.   -0.    0.   -0.    0.   -0.    0.   -0.    0.\n",
      " -0.    0.   -0.    0.   -0.    0.   -0.    0.   -0.    0.   -0.    0.\n",
      " -0.    0.   -0.    0.   -0.    0.   -0.    0.   -0.    0.   -0.    0.\n",
      " -0.    0.   -0.    0.   -0.    0.   -0.    0.   -0.    0.   -0.    0.\n",
      " -0.    0.   -0.    0.   -0.    0.   -0.    0.   -0.    0.   -0.    0.\n",
      " -0.    0.   -0.    0.   -0.    0.   -0.    0.   -0.    0.   -0.    0.\n",
      " -0.    0.   -0.    0.   -0.    0.   -0.    0.   -0.    0.   -0.    0.\n",
      " -0.    0.   -0.    0.   -0.    0.   -0.  ]\n"
     ]
    },
    {
     "data": {
      "image/png": "[encoded data removed]",
      "text/plain": [
       "<Figure size 432x288 with 1 Axes>"
      ]
     },
     "metadata": {
      "needs_background": "light"
     },
     "output_type": "display_data"
    }
   ],
   "source": [
    "import numpy as np\n",
    "\n",
    "import matplotlib.pyplot as plt\n",
    "\n",
    "plt.rcParams['font.sans-serif'] = ['Microsoft JhengHei'] \n",
    "plt.rcParams['axes.unicode_minus'] = False\n",
    "\n",
    "\n",
    "# 目標函數(損失函數):y=x^2\n",
    "def func(x): return x ** 2\n",
    "\n",
    "# 目標函數的一階導數:dy/dx=2*x\n",
    "def dfunc(x): return 2 * x\n",
    "\n",
    "def GD(x_start, df, epochs, lr):    \n",
    "    \"\"\"  梯度下降法。給定起始點與目標函數的一階導函數，求在epochs次反覆運算中x的更新值\n",
    "        :param x_start: x的起始點    \n",
    "        :param df: 目標函數的一階導函數    \n",
    "        :param epochs: 反覆運算週期    \n",
    "        :param lr: 學習率    \n",
    "        :return: x在每次反覆運算後的位置（包括起始點），長度為epochs+1    \n",
    "     \"\"\"    \n",
    "    xs = np.zeros(epochs+1)    \n",
    "    w = x_start    \n",
    "    xs[0] = w    \n",
    "    for i in range(epochs):         \n",
    "        dx = df(w)        \n",
    "        # 權重的更新W_new\n",
    "        # W_new = W — learning_rate * gradient        \n",
    "        w += - dx * lr         \n",
    "        xs[i+1] = w    \n",
    "    return xs\n",
    "\n",
    "# Main\n",
    "# 起始權重\n",
    "x_start = -5    \n",
    "# 執行週期數\n",
    "epochs = 150\n",
    "# 學習率   \n",
    "lr = 0.1   \n",
    "# 梯度下降法 \n",
    "# *** Function 可以直接當參數傳遞 ***\n",
    "w = GD(x_start, dfunc, epochs, lr=lr) \n",
    "print (np.around(w, 2))\n",
    "# 輸出：[-5.     -2.     -0.8    -0.32   -0.128  -0.0512]\n",
    "\n",
    "color = 'r'    \n",
    "from numpy import arange\n",
    "t = arange(-6.0, 6.0, 0.01)\n",
    "plt.plot(t, func(t), c='b')\n",
    "plt.plot(w, func(w), c=color, label='lr={}'.format(lr))    \n",
    "plt.scatter(w, func(w), c=color, ) \n",
    "\n",
    "from matplotlib.font_manager import FontProperties\n",
    "font = {'family': 'Microsoft JhengHei', 'weight': 'normal', 'size': 20}\n",
    "plt.title('梯度下降法', fontproperties=font)\n",
    "plt.xlabel('w', fontsize=20)\n",
    "plt.ylabel('Loss', fontsize=20)\n",
    "\n",
    "plt.show()\n"
   ]
  },
  {
   "cell_type": "code",
   "execution_count": 8,
   "metadata": {},
   "outputs": [
    {
     "name": "stdout",
     "output_type": "stream",
     "text": [
      "[5.         4.19       3.758351   ... 2.00736868 2.0073638  2.00735892]\n"
     ]
    },
    {
     "data": {
      "image/png": "[encoded data removed]",
      "text/plain": [
       "<Figure size 432x288 with 1 Axes>"
      ]
     },
     "metadata": {
      "needs_background": "light"
     },
     "output_type": "display_data"
    }
   ],
   "source": [
    "%matplotlib inline\n",
    "import numpy as np\n",
    "\n",
    "import matplotlib.pyplot as plt\n",
    "\n",
    "# 目標函數:y=x^2\n",
    "def func(x): return x ** 3 - 6 * x ** 2 + 12 * x + 2 #np.square(x)\n",
    "\n",
    "# 目標函數一階導數:dy/dx=2*x\n",
    "def dfunc(x): return 3 * x ** 2 - 12 * x + 12 #2 * x\n",
    "\n",
    "def GD(x_start, df, epochs, lr):    \n",
    "    \"\"\"  梯度下降法。給定起始點與目標函數的一階導函數，求在epochs次反覆運算中x的更新值\n",
    "        :param x_start: x的起始點    \n",
    "        :param df: 目標函數的一階導函數    \n",
    "        :param epochs: 反覆運算週期    \n",
    "        :param lr: 學習率    \n",
    "        :return: x在每次反覆運算後的位置（包括起始點），長度為epochs+1    \n",
    "     \"\"\"    \n",
    "    xs = np.zeros(epochs+1)    \n",
    "    x = x_start    \n",
    "    xs[0] = x    \n",
    "    for i in range(epochs):         \n",
    "        dx = df(x)        \n",
    "        # v表示x要改變的幅度        \n",
    "        v = - dx * lr        \n",
    "        x += v     \n",
    "        # print(x, end=', ')\n",
    "        xs[i+1] = x    \n",
    "    return xs\n",
    "\n",
    "# Main\n",
    "# 起始權重\n",
    "x_start = 5   \n",
    "# 執行週期數\n",
    "epochs = 1500\n",
    "# 學習率   \n",
    "lr = 0.03   \n",
    "# 梯度下降法 \n",
    "# *** Function 可以直接當參數傳遞 ***\n",
    "x = GD(x_start, dfunc, epochs, lr=lr) \n",
    "print (x)\n",
    "# 輸出：[-5.     -2.     -0.8    -0.32   -0.128  -0.0512]\n",
    "\n",
    "color = 'r'    \n",
    "#plt.plot(line_x, line_y, c='b')    \n",
    "from numpy import arange\n",
    "t = arange(-6.0, 6.0, 0.01)\n",
    "plt.plot(t, func(t), c='b')\n",
    "plt.plot(x, func(x), c=color, label='lr={}'.format(lr))    \n",
    "plt.scatter(x, func(x), c=color, )    \n",
    "plt.legend()\n",
    "\n",
    "plt.show()\n"
   ]
  },
  {
   "cell_type": "code",
   "execution_count": null,
   "metadata": {},
   "outputs": [],
   "source": []
  }
 ],
 "metadata": {
  "kernelspec": {
   "display_name": "Python 3 (ipykernel)",
   "language": "python",
   "name": "python3"
  },
  "language_info": {
   "codemirror_mode": {
    "name": "ipython",
    "version": 3
   },
   "file_extension": ".py",
   "mimetype": "text/x-python",
   "name": "python",
   "nbconvert_exporter": "python",
   "pygments_lexer": "ipython3",
   "version": "3.9.7"
  }
 },
 "nbformat": 4,
 "nbformat_minor": 2
}
