{
 "cells": [
  {
   "cell_type": "markdown",
   "metadata": {},
   "source": [
    "# 使用自動微分估算簡單線性迴歸的參數(w、b)\n",
    "## $ y = wx + b$"
   ]
  },
  {
   "cell_type": "code",
   "execution_count": 1,
   "metadata": {},
   "outputs": [],
   "source": [
    "# 載入套件\n",
    "import numpy as np \n",
    "import tensorflow as tf "
   ]
  },
  {
   "cell_type": "markdown",
   "metadata": {},
   "source": [
    "## 定義訓練函數"
   ]
  },
  {
   "cell_type": "code",
   "execution_count": 2,
   "metadata": {},
   "outputs": [],
   "source": [
    "# 定義損失函數\n",
    "def loss(y, y_pred):\n",
    "    return tf.reduce_mean(tf.square(y - y_pred))"
   ]
  },
  {
   "cell_type": "code",
   "execution_count": 3,
   "metadata": {},
   "outputs": [],
   "source": [
    "# 定義預測值函數\n",
    "def predict(X):\n",
    "    return w * X + b    "
   ]
  },
  {
   "cell_type": "code",
   "execution_count": 4,
   "metadata": {},
   "outputs": [],
   "source": [
    "# 定義訓練函數\n",
    "def train(X, y, epochs=40, lr=0.0001):\n",
    "    current_loss=0                                # 損失函數值\n",
    "    for epoch in range(epochs):                   # 執行訓練週期\n",
    "        with tf.GradientTape() as t:              # 自動微分\n",
    "            t.watch(tf.constant(X))               # 宣告 TensorFlow 常數參與自動微分\n",
    "            current_loss = loss(y, predict(X))    # 計算損失函數值\n",
    "        \n",
    "        dw, db = t.gradient(current_loss, [w, b]) # 取得 w, b 個別的梯度\n",
    "\n",
    "        # 更新權重：新權重 = 原權重 — 學習率(learning_rate) * 梯度(gradient)\n",
    "        w.assign_sub(lr * dw) # w -= lr * dw\n",
    "        b.assign_sub(lr * db) # b -= lr * db\n",
    "\n",
    "        # 顯示每一訓練週期的損失函數\n",
    "        print(f'Epoch {epoch}: Loss: {current_loss.numpy()}') "
   ]
  },
  {
   "cell_type": "markdown",
   "metadata": {},
   "source": [
    "## 產生隨機資料"
   ]
  },
  {
   "cell_type": "code",
   "execution_count": 5,
   "metadata": {},
   "outputs": [],
   "source": [
    "# 產生線性隨機資料100筆，介於 0-50\n",
    "n = 100\n",
    "X = np.linspace(0, 50, n) \n",
    "y = np.linspace(0, 50, n) \n",
    "  \n",
    "# 資料加一點雜訊(noise)\n",
    "X += np.random.uniform(-10, 10, n) \n",
    "y += np.random.uniform(-10, 10, n) "
   ]
  },
  {
   "cell_type": "code",
   "execution_count": 6,
   "metadata": {},
   "outputs": [
    {
     "data": {
      "text/plain": [
       "array([ 5.18448297e+00,  8.76564625e+00,  1.07933199e+01,  3.97940147e+00,\n",
       "        1.11510714e+01,  9.75770643e+00,  1.21460969e+01,  7.74126381e+00,\n",
       "        1.22287372e+01, -1.18353064e+00,  8.73680056e+00, -2.58610053e-02,\n",
       "        1.33610918e+01,  1.35906882e+01,  1.65300741e+01,  1.27473311e+01,\n",
       "        1.34996967e+01,  1.61548995e+01,  1.88227627e+01,  7.28384526e-01,\n",
       "        1.59515714e+01,  4.99718493e+00,  2.59828692e+00,  1.43697821e+01,\n",
       "        1.07927360e+01,  9.29719327e+00,  1.04621461e+01,  4.99963147e+00,\n",
       "        2.10630111e+01,  1.94095721e+01,  2.28365093e+01,  2.49240930e+01,\n",
       "        1.79930513e+01,  7.22356271e+00,  2.29857998e+01,  2.68177448e+01,\n",
       "        1.75570352e+01,  2.52781641e+01,  1.62401231e+01,  1.19565386e+01,\n",
       "        2.19238356e+01,  1.83075991e+01,  2.89339225e+01,  1.51169448e+01,\n",
       "        1.29088797e+01,  1.88125180e+01,  3.30178065e+01,  1.86083837e+01,\n",
       "        2.90478471e+01,  2.62096802e+01,  2.86362096e+01,  2.73971226e+01,\n",
       "        2.92242979e+01,  2.61274634e+01,  2.31987582e+01,  3.30222771e+01,\n",
       "        2.61340054e+01,  3.85810504e+01,  3.49320192e+01,  2.72523997e+01,\n",
       "        2.46202539e+01,  2.62113528e+01,  2.91703532e+01,  3.80458432e+01,\n",
       "        3.67463345e+01,  3.74015533e+01,  3.52122550e+01,  3.49551967e+01,\n",
       "        4.00742880e+01,  4.46221179e+01,  4.39509324e+01,  3.79593122e+01,\n",
       "        2.71046949e+01,  2.89839187e+01,  2.83554867e+01,  4.28747335e+01,\n",
       "        3.74029417e+01,  3.52817223e+01,  3.06752251e+01,  3.63243821e+01,\n",
       "        4.37884955e+01,  3.84561173e+01,  5.13613407e+01,  4.15709141e+01,\n",
       "        4.78011620e+01,  4.04097175e+01,  4.25257810e+01,  3.98427848e+01,\n",
       "        4.24127114e+01,  4.98305535e+01,  4.13563261e+01,  5.00515006e+01,\n",
       "        4.32536076e+01,  4.15377075e+01,  4.10966796e+01,  5.51874913e+01,\n",
       "        5.41831754e+01,  4.59110607e+01,  4.36428327e+01,  4.79341682e+01])"
      ]
     },
     "execution_count": 6,
     "metadata": {},
     "output_type": "execute_result"
    }
   ],
   "source": [
    "X"
   ]
  },
  {
   "cell_type": "code",
   "execution_count": 7,
   "metadata": {
    "scrolled": true
   },
   "outputs": [
    {
     "data": {
      "text/plain": [
       "array([-0.89344421,  8.60066848, -0.09513188,  3.05005829,  3.37279427,\n",
       "       -5.40919349,  1.63858098, -1.01602883,  1.24104429,  8.69469787,\n",
       "       -1.3263229 , 13.31249218,  6.35176579, 12.82879496, 13.32565664,\n",
       "        6.37312577,  4.03746956, 15.71204368, 10.02666439,  5.3680424 ,\n",
       "       19.19532114, 10.79832809, 10.13087698,  8.57853735,  2.21448342,\n",
       "        4.62831476,  4.95167768,  5.61908264, 15.74594128, 23.18340517,\n",
       "        8.84726802, 13.99858535, 23.34067991, 22.46843133,  9.89206757,\n",
       "       27.46901568, 18.66823816, 18.05251323, 27.4555031 , 11.2708768 ,\n",
       "       18.33686938, 29.66111115, 13.85944624, 18.73334174, 13.77494772,\n",
       "       24.38173242, 14.26661685, 18.35824328, 31.89884036, 21.0417372 ,\n",
       "       23.37760555, 24.0715208 , 21.06605528, 20.12860493, 30.0350868 ,\n",
       "       26.33213195, 28.96600373, 38.68289429, 20.60261815, 34.55533169,\n",
       "       21.77102642, 31.42392971, 40.93861366, 30.89709179, 26.53567309,\n",
       "       32.71897201, 34.65830787, 38.50013596, 32.02097634, 25.21838573,\n",
       "       35.57490337, 28.96598204, 28.01999766, 30.96974814, 35.1254068 ,\n",
       "       33.48893495, 30.65706049, 30.10106339, 34.80358929, 45.21612689,\n",
       "       40.36514778, 34.27973926, 46.33197096, 40.6927834 , 35.48901587,\n",
       "       37.77273193, 36.6485882 , 43.98813693, 41.31147432, 44.58995192,\n",
       "       51.53235386, 37.61200408, 36.69921189, 45.01149469, 51.4769217 ,\n",
       "       44.08491029, 38.94634558, 57.14398777, 44.03984117, 56.15010805])"
      ]
     },
     "execution_count": 7,
     "metadata": {},
     "output_type": "execute_result"
    }
   ],
   "source": [
    "y"
   ]
  },
  {
   "cell_type": "markdown",
   "metadata": {},
   "source": [
    "## 執行訓練"
   ]
  },
  {
   "cell_type": "code",
   "execution_count": 8,
   "metadata": {
    "scrolled": false
   },
   "outputs": [
    {
     "name": "stdout",
     "output_type": "stream",
     "text": [
      "Epoch 0: Loss: 782.238525390625\n",
      "Epoch 1: Loss: 547.88427734375\n",
      "Epoch 2: Loss: 389.2410888671875\n",
      "Epoch 3: Loss: 281.8495788574219\n",
      "Epoch 4: Loss: 209.15219116210938\n",
      "Epoch 5: Loss: 159.94058227539062\n",
      "Epoch 6: Loss: 126.62741088867188\n",
      "Epoch 7: Loss: 104.07646179199219\n",
      "Epoch 8: Loss: 88.81088256835938\n",
      "Epoch 9: Loss: 78.47702026367188\n",
      "Epoch 10: Loss: 71.48165893554688\n",
      "Epoch 11: Loss: 66.7462387084961\n",
      "Epoch 12: Loss: 63.540653228759766\n",
      "Epoch 13: Loss: 61.370662689208984\n",
      "Epoch 14: Loss: 59.90171813964844\n",
      "Epoch 15: Loss: 58.90733337402344\n",
      "Epoch 16: Loss: 58.23419952392578\n",
      "Epoch 17: Loss: 57.778526306152344\n",
      "Epoch 18: Loss: 57.470054626464844\n",
      "Epoch 19: Loss: 57.26124954223633\n",
      "Epoch 20: Loss: 57.11989212036133\n",
      "Epoch 21: Loss: 57.024208068847656\n",
      "Epoch 22: Loss: 56.959434509277344\n",
      "Epoch 23: Loss: 56.915584564208984\n",
      "Epoch 24: Loss: 56.88591003417969\n",
      "Epoch 25: Loss: 56.86581039428711\n",
      "Epoch 26: Loss: 56.852210998535156\n",
      "Epoch 27: Loss: 56.84299850463867\n",
      "Epoch 28: Loss: 56.836769104003906\n",
      "Epoch 29: Loss: 56.832542419433594\n",
      "Epoch 30: Loss: 56.829689025878906\n",
      "Epoch 31: Loss: 56.827754974365234\n",
      "Epoch 32: Loss: 56.826446533203125\n",
      "Epoch 33: Loss: 56.825557708740234\n",
      "Epoch 34: Loss: 56.824954986572266\n",
      "Epoch 35: Loss: 56.82455062866211\n",
      "Epoch 36: Loss: 56.824275970458984\n",
      "Epoch 37: Loss: 56.82408142089844\n",
      "Epoch 38: Loss: 56.8239631652832\n",
      "Epoch 39: Loss: 56.82387161254883\n",
      "w=0.9039756655693054, b=0.027162516489624977\n"
     ]
    }
   ],
   "source": [
    "# w、b 初始值均設為 0\n",
    "w = tf.Variable(0.0)\n",
    "b = tf.Variable(0.0)\n",
    "\n",
    "# 執行訓練\n",
    "train(X, y)\n",
    "\n",
    "# w、b 的最佳解\n",
    "print(f'w={w.numpy()}, b={b.numpy()}')"
   ]
  },
  {
   "cell_type": "markdown",
   "metadata": {},
   "source": [
    "## 顯示迴歸線"
   ]
  },
  {
   "cell_type": "code",
   "execution_count": 9,
   "metadata": {
    "scrolled": false
   },
   "outputs": [
    {
     "data": {
      "image/png": "[encoded data removed]",
      "text/plain": [
       "<Figure size 640x480 with 1 Axes>"
      ]
     },
     "metadata": {},
     "output_type": "display_data"
    }
   ],
   "source": [
    "import matplotlib.pyplot as plt \n",
    "\n",
    "plt.scatter(X, y, label='data')\n",
    "plt.plot(X, predict(X), 'r-', label='predicted')\n",
    "plt.legend();"
   ]
  },
  {
   "cell_type": "code",
   "execution_count": null,
   "metadata": {},
   "outputs": [],
   "source": []
  }
 ],
 "metadata": {
  "kernelspec": {
   "display_name": "Python 3 (ipykernel)",
   "language": "python",
   "name": "python3"
  },
  "language_info": {
   "codemirror_mode": {
    "name": "ipython",
    "version": 3
   },
   "file_extension": ".py",
   "mimetype": "text/x-python",
   "name": "python",
   "nbconvert_exporter": "python",
   "pygments_lexer": "ipython3",
   "version": "3.9.13"
  }
 },
 "nbformat": 4,
 "nbformat_minor": 4
}
