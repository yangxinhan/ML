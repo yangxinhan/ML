{
 "cells": [
  {
   "cell_type": "markdown",
   "metadata": {},
   "source": [
    "# 使用自動微分估算簡單線性迴歸的參數(w、b)\n",
    "## $ y = wx + b$"
   ]
  },
  {
   "cell_type": "code",
   "execution_count": 1,
   "metadata": {},
   "outputs": [],
   "source": [
    "# 載入套件\n",
    "import numpy as np \n",
    "import tensorflow as tf "
   ]
  },
  {
   "cell_type": "markdown",
   "metadata": {},
   "source": [
    "## 定義訓練函數"
   ]
  },
  {
   "cell_type": "code",
   "execution_count": 2,
   "metadata": {},
   "outputs": [],
   "source": [
    "# 定義損失函數\n",
    "def loss(y, y_pred):\n",
    "    return tf.reduce_mean(tf.square(y - y_pred))"
   ]
  },
  {
   "cell_type": "code",
   "execution_count": 3,
   "metadata": {},
   "outputs": [],
   "source": [
    "# 定義預測值函數\n",
    "def predict(X):\n",
    "    return w * X + b    "
   ]
  },
  {
   "cell_type": "code",
   "execution_count": 4,
   "metadata": {},
   "outputs": [],
   "source": [
    "# 定義訓練函數\n",
    "def train(X, y, epochs=40, lr=0.0001):\n",
    "    current_loss=0                                # 損失函數值\n",
    "    for epoch in range(epochs):                   # 執行訓練週期\n",
    "        with tf.GradientTape() as t:              # 自動微分\n",
    "            t.watch(tf.constant(X))               # 宣告 TensorFlow 常數參與自動微分\n",
    "            current_loss = loss(y, predict(X))    # 計算損失函數值\n",
    "        \n",
    "        dw, db = t.gradient(current_loss, [w, b]) # 取得 w, b 個別的梯度\n",
    "\n",
    "        # 更新權重：新權重 = 原權重 — 學習率(learning_rate) * 梯度(gradient)\n",
    "        w.assign_sub(lr * dw) # w -= lr * dw\n",
    "        b.assign_sub(lr * db) # b -= lr * db\n",
    "\n",
    "        # 顯示每一訓練週期的損失函數\n",
    "        print(f'Epoch {epoch}: Loss: {current_loss.numpy()}') "
   ]
  },
  {
   "cell_type": "markdown",
   "metadata": {},
   "source": [
    "## 產生隨機資料"
   ]
  },
  {
   "cell_type": "code",
   "execution_count": 5,
   "metadata": {},
   "outputs": [],
   "source": [
    "# 產生線性隨機資料100筆，介於 0-50\n",
    "n = 100\n",
    "X = np.linspace(0, 50, n) \n",
    "y = np.linspace(0, 50, n) \n",
    "  \n",
    "# 資料加一點雜訊(noise)\n",
    "X += np.random.uniform(-10, 10, n) \n",
    "y += np.random.uniform(-10, 10, n) "
   ]
  },
  {
   "cell_type": "code",
   "execution_count": 6,
   "metadata": {},
   "outputs": [
    {
     "data": {
      "text/plain": [
       "array([-5.93555157, -8.64087832, -2.61358501, -3.05568019,  1.46918043,\n",
       "        5.02713044, 12.6620002 , -6.11136956, -0.42579816,  0.22381173,\n",
       "        3.42990435,  5.16785391,  4.43405435, 15.08609766,  6.68929865,\n",
       "       -1.53913002,  4.91337896, 12.65552234,  9.96521534, 14.55313111,\n",
       "        0.55078681,  3.49708645, 11.29440463, 18.88393453, 18.78106457,\n",
       "       15.58684305,  6.62805299, 19.90043895, 14.14500475,  9.14882476,\n",
       "       18.23678946,  9.02046089,  7.57674188,  8.22430499, 25.33765397,\n",
       "       18.98320464, 23.66064001, 21.87825173, 20.0790077 , 18.83327945,\n",
       "       23.77740459, 28.71170964, 13.83172857, 26.84812946, 19.92424672,\n",
       "       15.05697677, 17.39784396, 14.23311914, 33.05069219, 28.67555232,\n",
       "       16.38086769, 23.33360041, 25.04215371, 20.14186497, 33.03281001,\n",
       "       21.29597088, 25.62267702, 30.94615785, 34.26340872, 26.98269891,\n",
       "       36.7622393 , 27.58816335, 23.17817167, 28.86138021, 29.49764265,\n",
       "       40.85841544, 26.79021535, 28.67079567, 28.78681441, 25.23491008,\n",
       "       33.77740269, 42.8216279 , 35.20106021, 27.8404604 , 36.70221253,\n",
       "       36.50202718, 31.49904918, 29.22493463, 41.34251424, 39.12163404,\n",
       "       47.57385034, 49.56625014, 37.96555665, 34.44414569, 46.47929362,\n",
       "       40.47853633, 46.71578752, 53.40184899, 35.09046411, 36.51827676,\n",
       "       44.98614775, 50.2481057 , 52.47958373, 47.27908653, 39.86907229,\n",
       "       56.25027032, 46.52986414, 47.74678003, 45.46444107, 52.03629846])"
      ]
     },
     "execution_count": 6,
     "metadata": {},
     "output_type": "execute_result"
    }
   ],
   "source": [
    "X"
   ]
  },
  {
   "cell_type": "code",
   "execution_count": 7,
   "metadata": {
    "scrolled": true
   },
   "outputs": [
    {
     "data": {
      "text/plain": [
       "array([-6.35730593,  8.75450317,  9.38149025, -3.69133183, -3.5919305 ,\n",
       "        3.38358356,  1.34133151,  2.99989158,  4.79007621, 12.70773049,\n",
       "       -1.30331105,  8.40781321,  3.69894309,  0.93078636,  6.53014462,\n",
       "       12.50183315, 12.32477885,  6.58862895, 12.13968184, 11.32311233,\n",
       "        2.48426971, 15.92182599,  5.22322954, 14.41473537,  6.24000162,\n",
       "       19.96601765, 15.31986392, 13.25973712,  8.72167117, 17.89972538,\n",
       "       14.606792  , 13.73344839,  9.61435718, 14.41162303, 11.20364791,\n",
       "        8.987982  , 23.55109179, 20.32464649, 21.43126548, 22.72124786,\n",
       "       23.93020952, 18.13385504, 21.73118671, 30.81771586, 14.73863971,\n",
       "       16.66409905, 32.55554285, 15.91509453, 18.92137375, 30.97144465,\n",
       "       32.07253737, 29.26969688, 24.18069832, 33.24034976, 27.96347704,\n",
       "       24.75962734, 29.77973944, 33.62598035, 24.1478335 , 34.98763969,\n",
       "       24.97392538, 35.27606137, 30.17212857, 34.08332864, 30.97102021,\n",
       "       24.62721069, 40.092378  , 37.85730165, 26.90452797, 40.61910637,\n",
       "       25.7100569 , 41.29800867, 30.47200945, 28.45032188, 32.96204154,\n",
       "       36.19417997, 43.91376386, 38.35704167, 32.61386325, 42.34891345,\n",
       "       48.76625839, 37.82795807, 33.06712115, 48.83850866, 39.04125435,\n",
       "       49.60587505, 45.46752503, 51.78704324, 45.37338759, 37.66174168,\n",
       "       40.34219482, 53.41826163, 52.53370547, 49.54063382, 45.82373721,\n",
       "       47.31243629, 40.92414553, 47.92086584, 56.19605557, 53.64847225])"
      ]
     },
     "execution_count": 7,
     "metadata": {},
     "output_type": "execute_result"
    }
   ],
   "source": [
    "y"
   ]
  },
  {
   "cell_type": "markdown",
   "metadata": {},
   "source": [
    "## 執行訓練"
   ]
  },
  {
   "cell_type": "code",
   "execution_count": 8,
   "metadata": {
    "scrolled": false
   },
   "outputs": [
    {
     "name": "stdout",
     "output_type": "stream",
     "text": [
      "Epoch 0: Loss: 872.4732055664062\n",
      "Epoch 1: Loss: 626.3679809570312\n",
      "Epoch 2: Loss: 454.9362487792969\n",
      "Epoch 3: Loss: 335.5205078125\n",
      "Epoch 4: Loss: 252.3379669189453\n",
      "Epoch 5: Loss: 194.3946533203125\n",
      "Epoch 6: Loss: 154.0324249267578\n",
      "Epoch 7: Loss: 125.91678619384766\n",
      "Epoch 8: Loss: 106.3318862915039\n",
      "Epoch 9: Loss: 92.68928527832031\n",
      "Epoch 10: Loss: 83.18592834472656\n",
      "Epoch 11: Loss: 76.56591033935547\n",
      "Epoch 12: Loss: 71.9543685913086\n",
      "Epoch 13: Loss: 68.74186706542969\n",
      "Epoch 14: Loss: 66.50391387939453\n",
      "Epoch 15: Loss: 64.94481658935547\n",
      "Epoch 16: Loss: 63.858585357666016\n",
      "Epoch 17: Loss: 63.10173797607422\n",
      "Epoch 18: Loss: 62.574344635009766\n",
      "Epoch 19: Loss: 62.20676803588867\n",
      "Epoch 20: Loss: 61.950531005859375\n",
      "Epoch 21: Loss: 61.7718505859375\n",
      "Epoch 22: Loss: 61.64718246459961\n",
      "Epoch 23: Loss: 61.560150146484375\n",
      "Epoch 24: Loss: 61.499332427978516\n",
      "Epoch 25: Loss: 61.456764221191406\n",
      "Epoch 26: Loss: 61.426910400390625\n",
      "Epoch 27: Loss: 61.40592956542969\n",
      "Epoch 28: Loss: 61.391117095947266\n",
      "Epoch 29: Loss: 61.38059997558594\n",
      "Epoch 30: Loss: 61.37308120727539\n",
      "Epoch 31: Loss: 61.36764144897461\n",
      "Epoch 32: Loss: 61.36366271972656\n",
      "Epoch 33: Loss: 61.36068344116211\n",
      "Epoch 34: Loss: 61.358421325683594\n",
      "Epoch 35: Loss: 61.35664367675781\n",
      "Epoch 36: Loss: 61.355220794677734\n",
      "Epoch 37: Loss: 61.35402297973633\n",
      "Epoch 38: Loss: 61.35299301147461\n",
      "Epoch 39: Loss: 61.352081298828125\n",
      "w=0.988946259021759, b=0.03890049457550049\n"
     ]
    }
   ],
   "source": [
    "# w、b 初始值均設為 0\n",
    "w = tf.Variable(0.0)\n",
    "b = tf.Variable(0.0)\n",
    "\n",
    "# 執行訓練\n",
    "train(X, y)\n",
    "\n",
    "# w、b 的最佳解\n",
    "print(f'w={w.numpy()}, b={b.numpy()}')"
   ]
  },
  {
   "cell_type": "markdown",
   "metadata": {},
   "source": [
    "## 顯示迴歸線"
   ]
  },
  {
   "cell_type": "code",
   "execution_count": 9,
   "metadata": {},
   "outputs": [
    {
     "data": {
      "text/plain": [
       "<matplotlib.legend.Legend at 0x1b5fbbac250>"
      ]
     },
     "execution_count": 9,
     "metadata": {},
     "output_type": "execute_result"
    },
    {
     "data": {
      "image/png": "[encoded data removed]",
      "text/plain": [
       "<Figure size 432x288 with 1 Axes>"
      ]
     },
     "metadata": {
      "needs_background": "light"
     },
     "output_type": "display_data"
    }
   ],
   "source": [
    "import matplotlib.pyplot as plt \n",
    "\n",
    "plt.scatter(X, y, label='data')\n",
    "plt.plot(X, predict(X), 'r-', label='predicted')\n",
    "plt.legend()"
   ]
  },
  {
   "cell_type": "code",
   "execution_count": null,
   "metadata": {},
   "outputs": [],
   "source": []
  }
 ],
 "metadata": {
  "kernelspec": {
   "display_name": "Python 3 (ipykernel)",
   "language": "python",
   "name": "python3"
  },
  "language_info": {
   "codemirror_mode": {
    "name": "ipython",
    "version": 3
   },
   "file_extension": ".py",
   "mimetype": "text/x-python",
   "name": "python",
   "nbconvert_exporter": "python",
   "pygments_lexer": "ipython3",
   "version": "3.9.13"
  }
 },
 "nbformat": 4,
 "nbformat_minor": 4
}
