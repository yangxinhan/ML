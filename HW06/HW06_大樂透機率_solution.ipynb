{
 "cells": [
  {
   "cell_type": "markdown",
   "metadata": {},
   "source": [
    "## 今彩539"
   ]
  },
  {
   "cell_type": "code",
   "execution_count": 1,
   "metadata": {},
   "outputs": [
    {
     "data": {
      "image/png": "[encoded data removed]",
      "text/plain": [
       "<IPython.core.display.Image object>"
      ]
     },
     "execution_count": 1,
     "metadata": {
      "image/png": {
       "width": 600
      }
     },
     "output_type": "execute_result"
    }
   ],
   "source": [
    "from IPython.display import Image\n",
    "Image('今彩539.png', width=600)"
   ]
  },
  {
   "cell_type": "markdown",
   "metadata": {},
   "source": [
    "https://www.geeksforgeeks.org/permutation-and-combination-in-python/"
   ]
  },
  {
   "cell_type": "code",
   "execution_count": 2,
   "metadata": {},
   "outputs": [
    {
     "name": "stdout",
     "output_type": "stream",
     "text": [
      "(1, 2, 3)\n",
      "(1, 3, 2)\n",
      "(2, 1, 3)\n",
      "(2, 3, 1)\n",
      "(3, 1, 2)\n",
      "(3, 2, 1)\n"
     ]
    }
   ],
   "source": [
    "# A Python program to print all \n",
    "# permutations using library function \n",
    "from itertools import permutations \n",
    "\n",
    "# Get all permutations of [1, 2, 3] \n",
    "perm = permutations([1, 2, 3]) \n",
    "\n",
    "# Print the obtained permutations \n",
    "for i in list(perm): \n",
    "\tprint (i) \n"
   ]
  },
  {
   "cell_type": "code",
   "execution_count": 3,
   "metadata": {},
   "outputs": [
    {
     "name": "stdout",
     "output_type": "stream",
     "text": [
      "(1, 2)\n",
      "(1, 3)\n",
      "(2, 1)\n",
      "(2, 3)\n",
      "(3, 1)\n",
      "(3, 2)\n"
     ]
    }
   ],
   "source": [
    "# A Python program to print all \n",
    "# permutations of given length \n",
    "from itertools import permutations \n",
    "\n",
    "# Get all permutations of length 2 \n",
    "# and length 2 \n",
    "perm = permutations([1, 2, 3], 2) \n",
    "\n",
    "# Print the obtained permutations \n",
    "for i in list(perm): \n",
    "\tprint (i) \n"
   ]
  },
  {
   "cell_type": "code",
   "execution_count": 4,
   "metadata": {},
   "outputs": [
    {
     "name": "stdout",
     "output_type": "stream",
     "text": [
      "(1, 2)\n",
      "(1, 3)\n",
      "(2, 3)\n"
     ]
    }
   ],
   "source": [
    "# A Python program to print all \n",
    "# combinations of given length \n",
    "from itertools import combinations \n",
    "\n",
    "# Get all combinations of [1, 2, 3] \n",
    "# and length 2 \n",
    "comb = combinations([1, 2, 3], 2) \n",
    "\n",
    "# Print the obtained combinations \n",
    "for i in list(comb): \n",
    "\tprint (i) \n"
   ]
  },
  {
   "cell_type": "code",
   "execution_count": 5,
   "metadata": {},
   "outputs": [
    {
     "name": "stdout",
     "output_type": "stream",
     "text": [
      "(1, 1)\n",
      "(1, 3)\n",
      "(1, 3)\n"
     ]
    }
   ],
   "source": [
    "# A Python program to print all combinations \n",
    "# of given length with duplicates in input \n",
    "from itertools import combinations \n",
    "\n",
    "# Get all combinations of [1, 1, 3] \n",
    "# and length 2 \n",
    "comb = combinations([1, 1, 3], 2) \n",
    "\n",
    "# Print the obtained combinations \n",
    "for i in list(comb): \n",
    "\tprint (i) \n"
   ]
  },
  {
   "cell_type": "markdown",
   "metadata": {},
   "source": [
    "## [今彩539 機率](http://www.taiwanlottery.com.tw/DailyCash/index.asp)\n",
    "## [答案](http://learn365.pixnet.net/blog/post/229612016-%5B%E7%94%9F%E6%B4%BB%5D-%E5%85%AC%E7%9B%8A%E5%BD%A9%E5%88%B8-%E5%90%84%E7%A8%AE%E7%8E%A9%E6%B3%95%E6%A9%9F%E7%8E%87)"
   ]
  },
  {
   "cell_type": "code",
   "execution_count": 3,
   "metadata": {},
   "outputs": [
    {
     "data": {
      "text/plain": [
       "120"
      ]
     },
     "execution_count": 3,
     "metadata": {},
     "output_type": "execute_result"
    }
   ],
   "source": [
    "sum1 = 1\n",
    "n=5\n",
    "for i in range(1, n+1):\n",
    "    sum1 = sum1 * i\n",
    "sum1"
   ]
  },
  {
   "cell_type": "code",
   "execution_count": 6,
   "metadata": {},
   "outputs": [
    {
     "data": {
      "text/plain": [
       "6"
      ]
     },
     "execution_count": 6,
     "metadata": {},
     "output_type": "execute_result"
    }
   ],
   "source": [
    "import math\n",
    "math.factorial(3)"
   ]
  },
  {
   "cell_type": "code",
   "execution_count": 2,
   "metadata": {},
   "outputs": [],
   "source": [
    "import math\n",
    "\n",
    "# nCr (n Choose r permutation)\n",
    "def nCr_perm(n,k):\n",
    "    f = math.factorial\n",
    "    return f(n) / f(n-k)\n",
    "\n",
    "# nCr (n Choose r combination)\n",
    "def nCr(n,k):\n",
    "    f = math.factorial\n",
    "    return f(n) / (f(k) * f(n-k))\n"
   ]
  },
  {
   "cell_type": "code",
   "execution_count": 8,
   "metadata": {},
   "outputs": [
    {
     "data": {
      "text/plain": [
       "575757.0"
      ]
     },
     "execution_count": 8,
     "metadata": {},
     "output_type": "execute_result"
    }
   ],
   "source": [
    "# 排列\n",
    "# 不放回\n",
    "combination_count = nCr(39, 5)\n",
    "# 放回\n",
    "#combination_count = 39 ** 5\n",
    "combination_count"
   ]
  },
  {
   "cell_type": "code",
   "execution_count": 9,
   "metadata": {},
   "outputs": [
    {
     "data": {
      "text/plain": [
       "575757.0"
      ]
     },
     "execution_count": 9,
     "metadata": {},
     "output_type": "execute_result"
    }
   ],
   "source": [
    "# scipy\n",
    "from scipy import special as sps\n",
    "sps.comb(39, 5)"
   ]
  },
  {
   "cell_type": "markdown",
   "metadata": {},
   "source": [
    "## 中頭獎 機率"
   ]
  },
  {
   "cell_type": "code",
   "execution_count": 10,
   "metadata": {
    "scrolled": true
   },
   "outputs": [
    {
     "name": "stdout",
     "output_type": "stream",
     "text": [
      "中頭獎機率=0.00000174\n"
     ]
    }
   ],
   "source": [
    "first_price_prob = 1 / combination_count\n",
    "print(f'中頭獎機率={first_price_prob:.8f}')"
   ]
  },
  {
   "cell_type": "code",
   "execution_count": 11,
   "metadata": {},
   "outputs": [
    {
     "data": {
      "text/plain": [
       "1.0"
      ]
     },
     "execution_count": 11,
     "metadata": {},
     "output_type": "execute_result"
    }
   ],
   "source": [
    "nCr(5, 5)"
   ]
  },
  {
   "cell_type": "markdown",
   "metadata": {},
   "source": [
    "## 中二獎 機率"
   ]
  },
  {
   "cell_type": "code",
   "execution_count": 14,
   "metadata": {
    "scrolled": true
   },
   "outputs": [
    {
     "name": "stdout",
     "output_type": "stream",
     "text": [
      "0.00029526345315819\n"
     ]
    },
    {
     "data": {
      "text/plain": [
       "(170.0, 0.00029526345315819)"
      ]
     },
     "execution_count": 14,
     "metadata": {},
     "output_type": "execute_result"
    }
   ],
   "source": [
    "second_price_prob = nCr(5, 4) * nCr(34, 1) / combination_count\n",
    "print(second_price_prob)\n",
    "nCr(5, 4) * nCr(34, 1), second_price_prob"
   ]
  },
  {
   "cell_type": "markdown",
   "metadata": {},
   "source": [
    "## 中三獎 機率"
   ]
  },
  {
   "cell_type": "code",
   "execution_count": 15,
   "metadata": {},
   "outputs": [
    {
     "name": "stdout",
     "output_type": "stream",
     "text": [
      "0.00974369395422027\n"
     ]
    },
    {
     "data": {
      "text/plain": [
       "(5610.0, 0.00974369395422027)"
      ]
     },
     "execution_count": 15,
     "metadata": {},
     "output_type": "execute_result"
    }
   ],
   "source": [
    "third_price_prob = nCr(5, 3) * nCr(34, 2) / combination_count \n",
    "print(third_price_prob)\n",
    "nCr(5, 3) * nCr(34, 2),third_price_prob"
   ]
  },
  {
   "cell_type": "markdown",
   "metadata": {},
   "source": [
    "## 中四獎 機率"
   ]
  },
  {
   "cell_type": "code",
   "execution_count": 16,
   "metadata": {},
   "outputs": [
    {
     "name": "stdout",
     "output_type": "stream",
     "text": [
      "0.10393273551168287\n"
     ]
    },
    {
     "data": {
      "text/plain": [
       "(59840.0, 0.10393273551168287)"
      ]
     },
     "execution_count": 16,
     "metadata": {},
     "output_type": "execute_result"
    }
   ],
   "source": [
    "fourth_price_prob = nCr(5, 2) * nCr(34, 3) / combination_count \n",
    "print(fourth_price_prob)\n",
    "nCr(5, 2) * nCr(34, 3), fourth_price_prob"
   ]
  },
  {
   "cell_type": "markdown",
   "metadata": {},
   "source": [
    "## 中頭、二、三、四獎組數 "
   ]
  },
  {
   "cell_type": "code",
   "execution_count": 13,
   "metadata": {},
   "outputs": [
    {
     "data": {
      "text/plain": [
       "(1.0, 170.0, 5610.0, 59840.0)"
      ]
     },
     "execution_count": 13,
     "metadata": {},
     "output_type": "execute_result"
    }
   ],
   "source": [
    "nCr(5, 5) * nCr(34, 0), nCr(5, 4) * nCr(34, 1), nCr(5, 3) * nCr(34, 2), nCr(5, 2) * nCr(34, 3)"
   ]
  },
  {
   "cell_type": "code",
   "execution_count": 14,
   "metadata": {},
   "outputs": [
    {
     "data": {
      "text/plain": [
       "27.919764761870024"
      ]
     },
     "execution_count": 14,
     "metadata": {},
     "output_type": "execute_result"
    }
   ],
   "source": [
    "### 平均中獎金額=(頭獎金額 * 頭獎組數  + 二獎金額 * 二獎組數  + 三獎金額 * 三獎組數  + 四獎金額 * 四獎組數) / 全部組合數 \n",
    "average_return = (8000000 * 1 + 20000 * 170 + 300 * 5610 + 50 * 59840) / 575757 \n",
    "average_return"
   ]
  },
  {
   "cell_type": "code",
   "execution_count": 19,
   "metadata": {},
   "outputs": [
    {
     "name": "stdout",
     "output_type": "stream",
     "text": [
      "今彩539平均報酬率=-44.1605%\n"
     ]
    }
   ],
   "source": [
    "return_rate = ((average_return / 50) - 1) * 100\n",
    "print(f'今彩539平均報酬率={return_rate:.4f}%')"
   ]
  },
  {
   "cell_type": "markdown",
   "metadata": {},
   "source": [
    "# 提升中獎率： 提升猜中號碼的機率，加上包牌\n",
    "- 假設搖獎機是絕對公平的，各個號碼出現的機率是相等的 ==> 從歷史資料計算目前出現機率較小的號碼\n",
    "- 假設各個號碼出現的機率是不相等的 ==> 從歷史資料計算目前出現機率較大的號碼"
   ]
  },
  {
   "cell_type": "code",
   "execution_count": 20,
   "metadata": {},
   "outputs": [
    {
     "data": {
      "text/plain": [
       "12600.0"
      ]
     },
     "execution_count": 20,
     "metadata": {},
     "output_type": "execute_result"
    }
   ],
   "source": [
    "# 包牌 10 個號碼\n",
    "nCr(10, 5) * 50 "
   ]
  },
  {
   "cell_type": "markdown",
   "metadata": {},
   "source": [
    "## Divide and conquer\n",
    "## print 9x9 table"
   ]
  },
  {
   "cell_type": "code",
   "execution_count": 22,
   "metadata": {},
   "outputs": [
    {
     "data": {
      "text/plain": [
       "15"
      ]
     },
     "execution_count": 22,
     "metadata": {},
     "output_type": "execute_result"
    }
   ],
   "source": [
    "i=3\n",
    "j=5\n",
    "i*j"
   ]
  },
  {
   "cell_type": "code",
   "execution_count": 23,
   "metadata": {},
   "outputs": [
    {
     "name": "stdout",
     "output_type": "stream",
     "text": [
      "3 x 5 = 15\n"
     ]
    }
   ],
   "source": [
    "print(f'{i} x {j} = {i*j}')"
   ]
  },
  {
   "cell_type": "code",
   "execution_count": 25,
   "metadata": {},
   "outputs": [
    {
     "name": "stdout",
     "output_type": "stream",
     "text": [
      "3 x 1 = 3\t3 x 2 = 6\t3 x 3 = 9\t3 x 4 = 12\t3 x 5 = 15\t3 x 6 = 18\t3 x 7 = 21\t3 x 8 = 24\t3 x 9 = 27\t"
     ]
    }
   ],
   "source": [
    "for j in range(1, 10):\n",
    "    print(f'{i} x {j} = {i*j}\\t', end='')"
   ]
  },
  {
   "cell_type": "code",
   "execution_count": 28,
   "metadata": {},
   "outputs": [
    {
     "name": "stdout",
     "output_type": "stream",
     "text": [
      "1 x 1 = 1\t1 x 2 = 2\t1 x 3 = 3\t1 x 4 = 4\t1 x 5 = 5\t1 x 6 = 6\t\n",
      "2 x 1 = 2\t2 x 2 = 4\t2 x 3 = 6\t2 x 4 = 8\t2 x 5 = 10\t2 x 6 = 12\t\n",
      "3 x 1 = 3\t3 x 2 = 6\t3 x 3 = 9\t3 x 4 = 12\t3 x 5 = 15\t3 x 6 = 18\t\n",
      "4 x 1 = 4\t4 x 2 = 8\t4 x 3 = 12\t4 x 4 = 16\t4 x 5 = 20\t4 x 6 = 24\t\n",
      "5 x 1 = 5\t5 x 2 = 10\t5 x 3 = 15\t5 x 4 = 20\t5 x 5 = 25\t5 x 6 = 30\t\n",
      "6 x 1 = 6\t6 x 2 = 12\t6 x 3 = 18\t6 x 4 = 24\t6 x 5 = 30\t6 x 6 = 36\t\n",
      "7 x 1 = 7\t7 x 2 = 14\t7 x 3 = 21\t7 x 4 = 28\t7 x 5 = 35\t7 x 6 = 42\t\n",
      "8 x 1 = 8\t8 x 2 = 16\t8 x 3 = 24\t8 x 4 = 32\t8 x 5 = 40\t8 x 6 = 48\t\n",
      "9 x 1 = 9\t9 x 2 = 18\t9 x 3 = 27\t9 x 4 = 36\t9 x 5 = 45\t9 x 6 = 54\t\n"
     ]
    }
   ],
   "source": [
    "for i in range(1, 10):\n",
    "    for j in range(1, 7):\n",
    "        print(f'{i} x {j} = {i*j}\\t', end='')\n",
    "    print()"
   ]
  },
  {
   "cell_type": "code",
   "execution_count": null,
   "metadata": {},
   "outputs": [],
   "source": []
  }
 ],
 "metadata": {
  "kernelspec": {
   "display_name": "Python 3 (ipykernel)",
   "language": "python",
   "name": "python3"
  },
  "language_info": {
   "codemirror_mode": {
    "name": "ipython",
    "version": 3
   },
   "file_extension": ".py",
   "mimetype": "text/x-python",
   "name": "python",
   "nbconvert_exporter": "python",
   "pygments_lexer": "ipython3",
   "version": "3.11.5"
  }
 },
 "nbformat": 4,
 "nbformat_minor": 2
}
