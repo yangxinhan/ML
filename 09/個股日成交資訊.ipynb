{
 "cells": [
  {
   "cell_type": "code",
   "execution_count": 1,
   "metadata": {},
   "outputs": [],
   "source": [
    "# 引進相關套件\n",
    "import requests\n",
    "from io import StringIO\n",
    "import pandas as pd\n",
    "import numpy as np"
   ]
  },
  {
   "cell_type": "code",
   "execution_count": 2,
   "metadata": {},
   "outputs": [],
   "source": [
    "# 資料日期\n",
    "date1 = '20190701'\n",
    "stockNo = '2330'\n",
    "# 網址\n",
    "url= 'https://www.twse.com.tw/exchangeReport/STOCK_DAY?response=csv&date={}&stockNo={}'.format(date1, stockNo)\n"
   ]
  },
  {
   "cell_type": "code",
   "execution_count": 3,
   "metadata": {},
   "outputs": [],
   "source": [
    "# 送出要求，並取得回應資料\n",
    "response = requests.post(url)\n"
   ]
  },
  {
   "cell_type": "code",
   "execution_count": 5,
   "metadata": {},
   "outputs": [
    {
     "name": "stdout",
     "output_type": "stream",
     "text": [
      "\"日期\",\"成交股數\",\"成交金額\",\"開盤價\",\"最高價\",\"最低價\",\"收盤價\",\"漲跌價差\",\"成交筆數\",\r\n",
      "\"108/07/01\",\"66,370,875\",\"16,445,222,750\",\"245.50\",\"250.00\",\"245.00\",\"248.50\",\"+9.50\",\"29,551\",\r\n",
      "\"108/07/02\",\"26,832,202\",\"6,671,951,743\",\"249.50\",\"250.00\",\"247.50\",\"249.00\",\"+0.50\",\"12,531\",\r\n",
      "\"108/07/03\",\"29,549,774\",\"7,190,777,082\",\"244.00\",\"245.00\",\"242.00\",\"242.50\",\"-6.50\",\"16,033\",\r\n",
      "\"108/07/04\",\"18,691,240\",\"4,561,556,160\",\"244.50\",\"245.00\",\"242.50\",\"244.00\",\"+1.50\",\"8,565\",\r\n",
      "\"108/07/05\",\"27,317,074\",\"6,624,379,927\",\"244.50\",\"245.00\",\"241.50\",\"243.00\",\"-1.00\",\"9,013\",\r\n",
      "\"108/07/08\",\"29,190,909\",\"7,057,462,187\",\"240.00\",\"244.50\",\"240.00\",\"242.50\",\"-0.50\",\"10,552\",\r\n",
      "\"108/07/09\",\"16,538,987\",\"3,998,096,596\",\"241.50\",\"243.00\",\"240.50\",\"242.00\",\"-0.50\",\"6,486\",\r\n",
      "\"108/07/10\",\"23,812,131\",\"5,839,691,357\",\"243.00\",\"247.00\",\"243.00\",\"247.00\",\"+5.00\",\"12,366\",\r\n",
      "\"108/07/11\",\"31,296,289\",\"7,809,358,257\",\"250.00\",\"250.00\",\"247.50\",\"250.00\",\"+3.00\",\"14,360\",\r\n",
      "\"108/07/12\",\"23,868,432\",\"5,984,689,000\",\"252.00\",\"252.00\",\"249.50\",\"250.50\",\"+0.50\",\"8,363\",\r\n",
      "\"108/07/15\",\"34,264,300\",\"8,663,129,910\",\"251.00\",\"254.50\",\"249.50\",\"254.50\",\"+4.00\",\"12,174\",\r\n",
      "\"108/07/16\",\"26,141,249\",\"6,678,755,679\",\"254.00\",\"256.50\",\"253.50\",\"256.00\",\"+1.50\",\"8,994\",\r\n",
      "\"108/07/17\",\"34,346,648\",\"8,686,815,824\",\"254.00\",\"254.00\",\"251.00\",\"252.00\",\"-4.00\",\"11,106\",\r\n",
      "\"108/07/18\",\"20,908,575\",\"5,300,082,470\",\"252.00\",\"254.50\",\"251.50\",\"254.00\",\"+2.00\",\"8,245\",\r\n",
      "\"108/07/19\",\"59,879,798\",\"15,573,278,932\",\"259.50\",\"261.00\",\"259.00\",\"259.00\",\"+5.00\",\"21,827\",\r\n",
      "\"108/07/22\",\"31,863,639\",\"8,385,222,407\",\"263.00\",\"264.00\",\"262.00\",\"264.00\",\"+5.00\",\"13,424\",\r\n",
      "\"108/07/23\",\"29,273,223\",\"7,734,089,131\",\"265.50\",\"266.50\",\"262.50\",\"264.00\",\"0.00\",\"12,791\",\r\n",
      "\"108/07/24\",\"24,511,039\",\"6,484,708,226\",\"266.50\",\"266.50\",\"263.00\",\"265.00\",\"+1.00\",\"10,617\",\r\n",
      "\"108/07/25\",\"30,698,545\",\"8,091,922,380\",\"264.00\",\"265.00\",\"261.50\",\"265.00\",\"0.00\",\"10,643\",\r\n",
      "\"108/07/26\",\"20,768,071\",\"5,434,082,968\",\"261.00\",\"262.50\",\"261.00\",\"261.00\",\"-4.00\",\"8,850\",\r\n",
      "\"108/07/29\",\"18,473,320\",\"4,822,762,518\",\"260.00\",\"262.00\",\"259.50\",\"261.00\",\"0.00\",\"6,681\",\r\n",
      "\"108/07/30\",\"22,895,612\",\"5,975,389,270\",\"262.50\",\"263.00\",\"260.00\",\"260.00\",\"-1.00\",\"7,191\",\r\n",
      "\"108/07/31\",\"36,365,601\",\"9,413,416,604\",\"260.00\",\"260.00\",\"257.00\",\"259.50\",\"-0.50\",\"10,468\",\r\n"
     ]
    }
   ],
   "source": [
    "clean_data=[]\n",
    "for row in response.text.split('\\n'):\n",
    "    fields=row.split('\",')\n",
    "    if len(fields) == 10 and row[0] != '=':\n",
    "        clean_data.append(row.replace(' ',''))\n",
    "\n",
    "csv_data = \"\\n\".join(clean_data)\n",
    "print(csv_data)"
   ]
  },
  {
   "cell_type": "code",
   "execution_count": 6,
   "metadata": {},
   "outputs": [
    {
     "data": {
      "text/html": [
       "<div>\n",
       "<style scoped>\n",
       "    .dataframe tbody tr th:only-of-type {\n",
       "        vertical-align: middle;\n",
       "    }\n",
       "\n",
       "    .dataframe tbody tr th {\n",
       "        vertical-align: top;\n",
       "    }\n",
       "\n",
       "    .dataframe thead th {\n",
       "        text-align: right;\n",
       "    }\n",
       "</style>\n",
       "<table border=\"1\" class=\"dataframe\">\n",
       "  <thead>\n",
       "    <tr style=\"text-align: right;\">\n",
       "      <th></th>\n",
       "      <th>日期</th>\n",
       "      <th>成交股數</th>\n",
       "      <th>成交金額</th>\n",
       "      <th>開盤價</th>\n",
       "      <th>最高價</th>\n",
       "      <th>最低價</th>\n",
       "      <th>收盤價</th>\n",
       "      <th>漲跌價差</th>\n",
       "      <th>成交筆數</th>\n",
       "      <th>Unnamed: 9</th>\n",
       "    </tr>\n",
       "  </thead>\n",
       "  <tbody>\n",
       "    <tr>\n",
       "      <td>0</td>\n",
       "      <td>108/07/01</td>\n",
       "      <td>66,370,875</td>\n",
       "      <td>16,445,222,750</td>\n",
       "      <td>245.5</td>\n",
       "      <td>250.0</td>\n",
       "      <td>245.0</td>\n",
       "      <td>248.5</td>\n",
       "      <td>9.5</td>\n",
       "      <td>29,551</td>\n",
       "      <td>NaN</td>\n",
       "    </tr>\n",
       "    <tr>\n",
       "      <td>1</td>\n",
       "      <td>108/07/02</td>\n",
       "      <td>26,832,202</td>\n",
       "      <td>6,671,951,743</td>\n",
       "      <td>249.5</td>\n",
       "      <td>250.0</td>\n",
       "      <td>247.5</td>\n",
       "      <td>249.0</td>\n",
       "      <td>0.5</td>\n",
       "      <td>12,531</td>\n",
       "      <td>NaN</td>\n",
       "    </tr>\n",
       "    <tr>\n",
       "      <td>2</td>\n",
       "      <td>108/07/03</td>\n",
       "      <td>29,549,774</td>\n",
       "      <td>7,190,777,082</td>\n",
       "      <td>244.0</td>\n",
       "      <td>245.0</td>\n",
       "      <td>242.0</td>\n",
       "      <td>242.5</td>\n",
       "      <td>-6.5</td>\n",
       "      <td>16,033</td>\n",
       "      <td>NaN</td>\n",
       "    </tr>\n",
       "    <tr>\n",
       "      <td>3</td>\n",
       "      <td>108/07/04</td>\n",
       "      <td>18,691,240</td>\n",
       "      <td>4,561,556,160</td>\n",
       "      <td>244.5</td>\n",
       "      <td>245.0</td>\n",
       "      <td>242.5</td>\n",
       "      <td>244.0</td>\n",
       "      <td>1.5</td>\n",
       "      <td>8,565</td>\n",
       "      <td>NaN</td>\n",
       "    </tr>\n",
       "    <tr>\n",
       "      <td>4</td>\n",
       "      <td>108/07/05</td>\n",
       "      <td>27,317,074</td>\n",
       "      <td>6,624,379,927</td>\n",
       "      <td>244.5</td>\n",
       "      <td>245.0</td>\n",
       "      <td>241.5</td>\n",
       "      <td>243.0</td>\n",
       "      <td>-1.0</td>\n",
       "      <td>9,013</td>\n",
       "      <td>NaN</td>\n",
       "    </tr>\n",
       "  </tbody>\n",
       "</table>\n",
       "</div>"
      ],
      "text/plain": [
       "          日期        成交股數            成交金額    開盤價    最高價    最低價    收盤價  漲跌價差  \\\n",
       "0  108/07/01  66,370,875  16,445,222,750  245.5  250.0  245.0  248.5   9.5   \n",
       "1  108/07/02  26,832,202   6,671,951,743  249.5  250.0  247.5  249.0   0.5   \n",
       "2  108/07/03  29,549,774   7,190,777,082  244.0  245.0  242.0  242.5  -6.5   \n",
       "3  108/07/04  18,691,240   4,561,556,160  244.5  245.0  242.5  244.0   1.5   \n",
       "4  108/07/05  27,317,074   6,624,379,927  244.5  245.0  241.5  243.0  -1.0   \n",
       "\n",
       "     成交筆數  Unnamed: 9  \n",
       "0  29,551         NaN  \n",
       "1  12,531         NaN  \n",
       "2  16,033         NaN  \n",
       "3   8,565         NaN  \n",
       "4   9,013         NaN  "
      ]
     },
     "execution_count": 6,
     "metadata": {},
     "output_type": "execute_result"
    }
   ],
   "source": [
    "df = pd.read_csv(StringIO(csv_data))\n",
    "df.head()"
   ]
  },
  {
   "cell_type": "code",
   "execution_count": 7,
   "metadata": {},
   "outputs": [],
   "source": [
    "# 刪除無用的欄位\n",
    "df.drop(df.columns[-1], axis=1, inplace=True)"
   ]
  },
  {
   "cell_type": "code",
   "execution_count": 8,
   "metadata": {},
   "outputs": [
    {
     "name": "stdout",
     "output_type": "stream",
     "text": [
      "<class 'pandas.core.frame.DataFrame'>\n",
      "RangeIndex: 23 entries, 0 to 22\n",
      "Data columns (total 9 columns):\n",
      "日期      23 non-null object\n",
      "成交股數    23 non-null object\n",
      "成交金額    23 non-null object\n",
      "開盤價     23 non-null float64\n",
      "最高價     23 non-null float64\n",
      "最低價     23 non-null float64\n",
      "收盤價     23 non-null float64\n",
      "漲跌價差    23 non-null float64\n",
      "成交筆數    23 non-null object\n",
      "dtypes: float64(5), object(4)\n",
      "memory usage: 1.7+ KB\n"
     ]
    }
   ],
   "source": [
    "df.info()"
   ]
  },
  {
   "cell_type": "code",
   "execution_count": 9,
   "metadata": {},
   "outputs": [
    {
     "name": "stdout",
     "output_type": "stream",
     "text": [
      "<class 'pandas.core.frame.DataFrame'>\n",
      "RangeIndex: 23 entries, 0 to 22\n",
      "Data columns (total 9 columns):\n",
      "日期      23 non-null object\n",
      "成交股數    23 non-null int64\n",
      "成交金額    23 non-null int64\n",
      "開盤價     23 non-null float64\n",
      "最高價     23 non-null float64\n",
      "最低價     23 non-null float64\n",
      "收盤價     23 non-null float64\n",
      "漲跌價差    23 non-null float64\n",
      "成交筆數    23 non-null int64\n",
      "dtypes: float64(5), int64(3), object(1)\n",
      "memory usage: 1.7+ KB\n"
     ]
    }
   ],
   "source": [
    "# 將以下欄位轉為數值\n",
    "numeric_columns=['成交股數','成交金額','成交筆數']\n",
    "for i in numeric_columns:\n",
    "    df[i]=df[i].map(lambda x:x.replace(',', '').replace('--', ''))\n",
    "    df[i]=pd.to_numeric(df[i])\n",
    "df.info()"
   ]
  },
  {
   "cell_type": "code",
   "execution_count": 10,
   "metadata": {},
   "outputs": [],
   "source": [
    "df.to_csv('個股日成交資訊.csv', index=False)"
   ]
  },
  {
   "cell_type": "code",
   "execution_count": 11,
   "metadata": {},
   "outputs": [],
   "source": [
    "df.to_excel('個股日成交資訊.xlsx', index=False)"
   ]
  },
  {
   "cell_type": "code",
   "execution_count": null,
   "metadata": {},
   "outputs": [],
   "source": []
  }
 ],
 "metadata": {
  "kernelspec": {
   "display_name": "Python 3",
   "language": "python",
   "name": "python3"
  },
  "language_info": {
   "codemirror_mode": {
    "name": "ipython",
    "version": 3
   },
   "file_extension": ".py",
   "mimetype": "text/x-python",
   "name": "python",
   "nbconvert_exporter": "python",
   "pygments_lexer": "ipython3",
   "version": "3.6.5"
  }
 },
 "nbformat": 4,
 "nbformat_minor": 2
}
