{
 "cells": [
  {
   "cell_type": "markdown",
   "metadata": {},
   "source": [
    "# 函數(Function): 說明輸入與輸出的關係\n",
    "$\\begin{equation}f(x) = x^{2} + 3x + 5\\end{equation}$\n",
    "\n",
    "$\\begin{equation}f(3) = 23\\end{equation}$"
   ]
  },
  {
   "cell_type": "markdown",
   "metadata": {},
   "source": [
    "## 解題"
   ]
  },
  {
   "cell_type": "code",
   "execution_count": null,
   "metadata": {},
   "outputs": [],
   "source": [
    "def f(x):\n",
    "    return x**2 + 3*x + 5\n",
    "\n",
    "f(3)"
   ]
  },
  {
   "cell_type": "markdown",
   "metadata": {},
   "source": [
    "## 繪圖"
   ]
  },
  {
   "cell_type": "code",
   "execution_count": null,
   "metadata": {},
   "outputs": [],
   "source": [
    "import numpy as np\n",
    "from matplotlib import pyplot as plt\n",
    "\n",
    "plt.figure(figsize=(6,4))\n",
    "# Create an array of x values from -100 to 100\n",
    "x = np.array(range(-100, 101))\n",
    "\n",
    "# Set up the graph\n",
    "plt.xlabel('x')\n",
    "plt.ylabel('f(x)')\n",
    "plt.grid()\n",
    "\n",
    "# Plot x against f(x)\n",
    "plt.plot(x,f(x), color='purple')\n",
    "\n",
    "plt.show()"
   ]
  },
  {
   "cell_type": "markdown",
   "metadata": {},
   "source": [
    "## 線性方程式(Linear Equation)\n",
    "$\\begin{equation}f(x) = 2x + 3\\end{equation}$"
   ]
  },
  {
   "cell_type": "code",
   "execution_count": null,
   "metadata": {},
   "outputs": [],
   "source": [
    "import pandas as pd\n",
    "\n",
    "df = pd.DataFrame ({'x': range(-10, 11)})\n",
    "\n",
    "# Add a y column by applying the solved equation to x\n",
    "df['y'] = (2*df['x'] + 3)\n",
    "df"
   ]
  },
  {
   "cell_type": "code",
   "execution_count": null,
   "metadata": {
    "scrolled": false
   },
   "outputs": [],
   "source": [
    "plt.figure(figsize=(6,4))\n",
    "plt.plot(df.x, df.y, color=\"blue\", marker = \"o\", markersize=6, mec='red', mfc='red')\n",
    "plt.xlabel('x')\n",
    "plt.ylabel('y')\n",
    "plt.grid()\n",
    "plt.show()"
   ]
  },
  {
   "cell_type": "markdown",
   "metadata": {},
   "source": [
    "## 截距(Intercept) "
   ]
  },
  {
   "cell_type": "code",
   "execution_count": null,
   "metadata": {},
   "outputs": [],
   "source": [
    "plt.figure(figsize=(6,4))\n",
    "plt.plot(df.x, df.y, color=\"grey\")\n",
    "plt.xlabel('x')\n",
    "plt.ylabel('y')\n",
    "plt.grid()\n",
    "\n",
    "## add axis lines \n",
    "plt.axhline()\n",
    "plt.axvline()\n",
    "plt.annotate('intercept=3',(.5,1))\n",
    "\n",
    "x = [0,0]\n",
    "y = [0,3]\n",
    "plt.plot(x, y, color=\"red\")\n",
    "plt.show()"
   ]
  },
  {
   "cell_type": "markdown",
   "metadata": {},
   "source": [
    "## 斜率(Slope)"
   ]
  },
  {
   "cell_type": "code",
   "execution_count": null,
   "metadata": {},
   "outputs": [],
   "source": [
    "plt.figure(figsize=(6,4))\n",
    "plt.plot(df.x, df.y, color=\"grey\")\n",
    "plt.xlabel('x')\n",
    "plt.ylabel('y')\n",
    "plt.grid()\n",
    "\n",
    "## add axis lines \n",
    "plt.axhline()\n",
    "plt.axvline()\n",
    "plt.annotate('slope=2',(.5,1))\n",
    "\n",
    "x = np.array([0,2])\n",
    "y = 2 * x + 3\n",
    "plt.plot(x, y, color=\"red\")\n",
    "plt.show()"
   ]
  },
  {
   "cell_type": "markdown",
   "metadata": {},
   "source": [
    "## 簡單線性迴歸(Linear regression)\n",
    "## 世界人口數"
   ]
  },
  {
   "cell_type": "code",
   "execution_count": null,
   "metadata": {},
   "outputs": [],
   "source": [
    "year=[1950, 1951, 1952, 1953, 1954, 1955, 1956, 1957, 1958, 1959, 1960, 1961, 1962, 1963, 1964, 1965, 1966, 1967, 1968, 1969, 1970, 1971, 1972, 1973, 1974, 1975, 1976, 1977, 1978, 1979, 1980, 1981, 1982, 1983, 1984, 1985, 1986, 1987, 1988, 1989, 1990, 1991, 1992, 1993, 1994, 1995, 1996, 1997, 1998, 1999, 2000, 2001, 2002, 2003, 2004, 2005, 2006, 2007, 2008, 2009, 2010, 2011, 2012, 2013, 2014, 2015, 2016, 2017, 2018, 2019, 2020, 2021, 2022, 2023, 2024, 2025, 2026, 2027, 2028, 2029, 2030, 2031, 2032, 2033, 2034, 2035, 2036, 2037, 2038, 2039, 2040, 2041, 2042, 2043, 2044, 2045, 2046, 2047, 2048, 2049, 2050, 2051, 2052, 2053, 2054, 2055, 2056, 2057, 2058, 2059, 2060, 2061, 2062, 2063, 2064, 2065, 2066, 2067, 2068, 2069, 2070, 2071, 2072, 2073, 2074, 2075, 2076, 2077, 2078, 2079, 2080, 2081, 2082, 2083, 2084, 2085, 2086, 2087, 2088, 2089, 2090, 2091, 2092, 2093, 2094, 2095, 2096, 2097, 2098, 2099, 2100]\n",
    "pop=[2.53, 2.57, 2.62, 2.67, 2.71, 2.76, 2.81, 2.86, 2.92, 2.97, 3.03, 3.08, 3.14, 3.2, 3.26, 3.33, 3.4, 3.47, 3.54, 3.62, 3.69, 3.77, 3.84, 3.92, 4.0, 4.07, 4.15, 4.22, 4.3, 4.37, 4.45, 4.53, 4.61, 4.69, 4.78, 4.86, 4.95, 5.05, 5.14, 5.23, 5.32, 5.41, 5.49, 5.58, 5.66, 5.74, 5.82, 5.9, 5.98, 6.05, 6.13, 6.2, 6.28, 6.36, 6.44, 6.51, 6.59, 6.67, 6.75, 6.83, 6.92, 7.0, 7.08, 7.16, 7.24, 7.32, 7.4, 7.48, 7.56, 7.64, 7.72, 7.79, 7.87, 7.94, 8.01, 8.08, 8.15, 8.22, 8.29, 8.36, 8.42, 8.49, 8.56, 8.62, 8.68, 8.74, 8.8, 8.86, 8.92, 8.98, 9.04, 9.09, 9.15, 9.2, 9.26, 9.31, 9.36, 9.41, 9.46, 9.5, 9.55, 9.6, 9.64, 9.68, 9.73, 9.77, 9.81, 9.85, 9.88, 9.92, 9.96, 9.99, 10.03, 10.06, 10.09, 10.13, 10.16, 10.19, 10.22, 10.25, 10.28, 10.31, 10.33, 10.36, 10.38, 10.41, 10.43, 10.46, 10.48, 10.5, 10.52, 10.55, 10.57, 10.59, 10.61, 10.63, 10.65, 10.66, 10.68, 10.7, 10.72, 10.73, 10.75, 10.77, 10.78, 10.79, 10.81, 10.82, 10.83, 10.84, 10.85]\n",
    "X=np.array(year).reshape(len(year), 1)\n",
    "y=np.array(pop)\n",
    "df = pd.DataFrame({'x':year, 'y':pop})\n",
    "df"
   ]
  },
  {
   "cell_type": "code",
   "execution_count": null,
   "metadata": {},
   "outputs": [],
   "source": [
    "# use sklearn LinearRegression\n",
    "from sklearn.linear_model import LinearRegression\n",
    "reg = LinearRegression()\n",
    "reg.fit(X, y)\n",
    "print('y = {:.4f} * x + {:.4f}'.format(reg.coef_[0], reg.intercept_))"
   ]
  },
  {
   "cell_type": "code",
   "execution_count": null,
   "metadata": {
    "scrolled": false
   },
   "outputs": [],
   "source": [
    "plt.figure(num=None, figsize=(18, 10), dpi=80, facecolor='w', edgecolor='k')\n",
    "plt.scatter(year, pop)\n",
    "x1=np.arange(1950, 2101)\n",
    "y1=0.0612 * x1-116.3563\n",
    "plt.plot(x1, y1, 'r');"
   ]
  },
  {
   "cell_type": "markdown",
   "metadata": {},
   "source": [
    "## 請問2050年世界人口數=?"
   ]
  },
  {
   "cell_type": "code",
   "execution_count": null,
   "metadata": {},
   "outputs": [],
   "source": [
    "x = 2050\n",
    "0.0612 * x + -116.3563"
   ]
  },
  {
   "cell_type": "markdown",
   "metadata": {},
   "source": [
    "## 以亂數生成資料"
   ]
  },
  {
   "cell_type": "code",
   "execution_count": null,
   "metadata": {},
   "outputs": [],
   "source": [
    "from sklearn.datasets import make_regression\n",
    "X, y= make_regression(n_samples=100, n_features=1, noise=15, bias=50, random_state=123)\n",
    "\n",
    "reg = LinearRegression()\n",
    "reg.fit(X, y)\n",
    "print('y = {:.4f} * x + {:.4f}'.format(reg.coef_[0], reg.intercept_))"
   ]
  },
  {
   "cell_type": "markdown",
   "metadata": {},
   "source": [
    "## 繪圖"
   ]
  },
  {
   "cell_type": "code",
   "execution_count": null,
   "metadata": {
    "scrolled": false
   },
   "outputs": [],
   "source": [
    "plt.figure(num=None, figsize=(8, 6), dpi=80, facecolor='w', edgecolor='k')\n",
    "plt.scatter(X.reshape(X.shape[0]), y)\n",
    "X1=np.linspace(-3, 3, 100)\n",
    "plt.plot(X1, reg.coef_[0] * X1 + reg.intercept_, 'r')"
   ]
  },
  {
   "cell_type": "markdown",
   "metadata": {},
   "source": [
    "## 二次方程式(Quadratic Equation)"
   ]
  },
  {
   "cell_type": "code",
   "execution_count": null,
   "metadata": {
    "scrolled": false
   },
   "outputs": [],
   "source": [
    "def f(x):\n",
    "    return x**2 + 3*x + 5\n",
    "\n",
    "plt.figure(figsize=(6,4))\n",
    "# Create an array of x values from -100 to 100\n",
    "x = np.array(range(-100, 101))\n",
    "\n",
    "# Set up the graph\n",
    "plt.xlabel('x')\n",
    "plt.ylabel('f(x)')\n",
    "plt.grid()\n",
    "\n",
    "# Plot x against f(x)\n",
    "plt.plot(x,f(x), color='purple')\n",
    "plt.show()"
   ]
  },
  {
   "cell_type": "markdown",
   "metadata": {},
   "source": [
    "## 當平方項係數為負值時，拋物線會成何形狀? 會有最小值或最大值?"
   ]
  },
  {
   "cell_type": "code",
   "execution_count": null,
   "metadata": {
    "scrolled": false
   },
   "outputs": [],
   "source": [
    "def f(x):\n",
    "    return -x**2 + 3*x + 5\n",
    "\n",
    "plt.figure(figsize=(6,4))\n",
    "# Create an array of x values from -100 to 100\n",
    "x = np.array(range(-100, 101))\n",
    "\n",
    "# Set up the graph\n",
    "plt.xlabel('x')\n",
    "plt.ylabel('f(x)')\n",
    "plt.grid()\n",
    "\n",
    "# Plot x against f(x)\n",
    "plt.plot(x,f(x), color='purple')\n",
    "plt.show()"
   ]
  },
  {
   "cell_type": "markdown",
   "metadata": {},
   "source": [
    "## 求最小值或最大值"
   ]
  },
  {
   "cell_type": "code",
   "execution_count": null,
   "metadata": {},
   "outputs": [],
   "source": [
    "def plot_parabola(a, b, c, is_show=True):\n",
    "    # get the x value for the line of symmetry\n",
    "    # 一階導數 ==> 0 2*a*x + b = 0 ==> x = -b/(2*a)\n",
    "    vx = -b /(2*a)\n",
    "    \n",
    "    # get the y value when x is at the line of symmetry\n",
    "    vy = a*vx**2 + b*vx + c\n",
    "    print(vy)\n",
    "    # Create a dataframe with an x column containing values from x-10 to x+10\n",
    "    minx = int(vx - 10)\n",
    "    maxx = int(vx + 11)\n",
    "    df = pd.DataFrame ({'x': range(minx, maxx)})\n",
    "\n",
    "    # Add a y column by applying the quadratic equation to x\n",
    "    df['y'] = a*df['x']**2 + b *df['x'] + c\n",
    "\n",
    "    # get min and max y values\n",
    "    miny = df.y.min()\n",
    "    maxy = df.y.max()\n",
    "\n",
    "    # Plot the line\n",
    "    plt.plot(df.x, df.y, color=\"grey\")\n",
    "    plt.xlabel('x')\n",
    "    plt.ylabel('y')\n",
    "    plt.grid()\n",
    "    plt.axhline()\n",
    "    plt.axvline()\n",
    "\n",
    "    # plot the line of symmetry\n",
    "    sx = [vx, vx]\n",
    "    sy = [miny, maxy]\n",
    "    plt.plot(sx,sy, color='magenta')\n",
    "\n",
    "    # Annotate the vertex\n",
    "    plt.scatter(vx,vy, color=\"red\")\n",
    "    plt.annotate('vertex',(vx, vy), xytext=(vx - 1, (vy + 5)* np.sign(a)))\n",
    "\n",
    "    x1, x2 = vx - 5, vx + 5\n",
    "    plt.plot([x1, x2], [a*x1**2 + b *x1 + c, a*x2**2 + b *x2 + c],color=\"yellow\")\n",
    "    plt.scatter([x1, x2], [a*x1**2 + b *x1 + c, a*x2**2 + b *x2 + c],color=\"green\")\n",
    "    plt.annotate('x1',(x1+1, a*x1**2 + b *x1 + c))\n",
    "    plt.annotate('x2',(x2+1, a*x2**2 + b *x2 + c))\n",
    "\n",
    "    if is_show: plt.show()\n",
    "    \n",
    "    return vx        \n",
    "\n",
    "plot_parabola(2, 3, 5)   \n",
    "\n",
    "plot_parabola(-2, 3, 5);"
   ]
  },
  {
   "cell_type": "code",
   "execution_count": null,
   "metadata": {
    "scrolled": false
   },
   "outputs": [],
   "source": [
    "def f(x):\n",
    "    return x**2 + 3*x + 5\n",
    "\n",
    "minx = plot_parabola(2, 3, 5)\n",
    "minx"
   ]
  },
  {
   "cell_type": "markdown",
   "metadata": {},
   "source": [
    "## 以SymPy求解"
   ]
  },
  {
   "cell_type": "code",
   "execution_count": null,
   "metadata": {},
   "outputs": [],
   "source": [
    "from sympy.solvers import solve\n",
    "from sympy import Symbol\n",
    "\n",
    "x = Symbol('x', real=True)\n",
    "print(solve(x**2+6*x-7))"
   ]
  },
  {
   "cell_type": "code",
   "execution_count": null,
   "metadata": {},
   "outputs": [],
   "source": [
    "from sympy.solvers import solve\n",
    "from sympy import Symbol\n",
    "\n",
    "x = Symbol('x', real=True)\n",
    "# 未與函數相交\n",
    "print(solve(2*x**2+3*x+5))"
   ]
  },
  {
   "cell_type": "markdown",
   "metadata": {},
   "source": [
    "## 1. 任意劃一水平線，找到與拋物線相交的兩個點，求兩個點X座標的平均數(vx)，即頂點X座標。\n",
    "## 2. 將vx帶入函數，即可求得頂點的Y座標。\n",
    "\n",
    "### 例如\n",
    "$\\begin{equation}y = 3x^{2} - 12\\end{equation}$\n",
    "\n",
    "$\\begin{equation}3x^{2} - 12 = 0\\end{equation}$\n",
    "\n",
    "$\\begin{equation}3x^{2} = 12\\end{equation}$\n",
    "\n",
    "$\\begin{equation}x^{2} = 4\\end{equation}$\n",
    "\n",
    "$\\begin{equation}x = \\pm\\sqrt{4}\\end{equation}$\n",
    "\n",
    "$\\begin{equation}x = \\pm2\\end{equation}$"
   ]
  },
  {
   "cell_type": "markdown",
   "metadata": {},
   "source": [
    "## 也可以將函數湊成平方和，就可以求解\n",
    "### (a + b)<sup>2</sup> = a<sup>2</sup> + 2ab + b<sup>2</sup>\n",
    "### (a - b)<sup>2</sup> = a<sup>2</sup> - 2ab + b<sup>2</sup>\n",
    "### 例如：\n",
    "$\\begin{equation}x^{2} + 24x + 12^{2}\\end{equation}$\n",
    "\n",
    "$\\begin{equation}(x + 12)^{2}\\end{equation}$\n",
    "### 假設\n",
    "$\\begin{equation}y = x^{2} + 6x - 7\\end{equation}$\n",
    "\n",
    "$\\begin{equation}x^{2} + 6x - 7 = 0\\end{equation}$\n",
    "\n",
    "$\\begin{equation}x^{2} + 6x = 7\\end{equation}$\n",
    "\n",
    "$\\begin{equation}(x + 3)^{2} = 16\\end{equation}$\n",
    "\n",
    "$\\begin{equation}x + 3 =\\pm\\sqrt{16}\\end{equation}$\n",
    "\n",
    "$\\begin{equation}x = -7, 1\\end{equation}$\n"
   ]
  },
  {
   "cell_type": "code",
   "execution_count": null,
   "metadata": {},
   "outputs": [],
   "source": [
    "plot_parabola(3, 0, -12);"
   ]
  },
  {
   "cell_type": "code",
   "execution_count": null,
   "metadata": {},
   "outputs": [],
   "source": [
    "from sympy.solvers import solve\n",
    "from sympy import Symbol\n",
    "\n",
    "x = Symbol('x', real=True)\n",
    "print(solve(x**2+6*x-7))"
   ]
  },
  {
   "cell_type": "markdown",
   "metadata": {},
   "source": [
    "## 以湊成平方和的方式求最小值\n",
    "\n",
    "$\\begin{equation}y = 2x^{2} - 16x + 2\\end{equation}$"
   ]
  },
  {
   "cell_type": "code",
   "execution_count": null,
   "metadata": {},
   "outputs": [],
   "source": []
  }
 ],
 "metadata": {
  "kernelspec": {
   "display_name": "Python 3",
   "language": "python",
   "name": "python3"
  },
  "language_info": {
   "codemirror_mode": {
    "name": "ipython",
    "version": 3
   },
   "file_extension": ".py",
   "mimetype": "text/x-python",
   "name": "python",
   "nbconvert_exporter": "python",
   "pygments_lexer": "ipython3",
   "version": "3.9.6"
  }
 },
 "nbformat": 4,
 "nbformat_minor": 2
}
