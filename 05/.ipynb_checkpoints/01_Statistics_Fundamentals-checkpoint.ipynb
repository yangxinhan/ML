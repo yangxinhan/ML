{
 "cells": [
  {
   "cell_type": "markdown",
   "metadata": {},
   "source": [
    "# 統計學導論(Statistics Fundamentals)"
   ]
  },
  {
   "cell_type": "markdown",
   "metadata": {},
   "source": [
    "## 統計是基於資料所推演出來的資訊，包括一些描述、數量及衡量。\n",
    "### 資料集(dataset)：我們蒐集到的資料總稱，它包括一些觀察值(Observations)或案例(Cases)，即資料集的列。\n",
    "### 屬性(attributes)或特徵(features)：資料集或觀察值的欄位，通常以X表示。\n",
    "### 資料集的欄位也可能包含預測的目標(Target)，通常以Y表示。"
   ]
  },
  {
   "cell_type": "code",
   "execution_count": null,
   "metadata": {},
   "outputs": [],
   "source": [
    "import seaborn as sns\n",
    "import pandas as pd\n",
    "import numpy as np\n",
    "import matplotlib.pyplot as plt\n",
    "\n",
    "# fix 中文亂碼 \n",
    "from matplotlib.font_manager import FontProperties\n",
    "plt.rcParams['font.sans-serif'] = ['Arial Unicode MS'] "
   ]
  },
  {
   "attachments": {},
   "cell_type": "markdown",
   "metadata": {},
   "source": [
    "## 計程車小費預測"
   ]
  },
  {
   "cell_type": "code",
   "execution_count": 1,
   "metadata": {},
   "outputs": [
    {
     "ename": "NameError",
     "evalue": "name 'sns' is not defined",
     "output_type": "error",
     "traceback": [
      "\u001b[0;31m---------------------------------------------------------------------------\u001b[0m",
      "\u001b[0;31mNameError\u001b[0m                                 Traceback (most recent call last)",
      "Cell \u001b[0;32mIn[1], line 1\u001b[0m\n\u001b[0;32m----> 1\u001b[0m df \u001b[38;5;241m=\u001b[39m \u001b[43msns\u001b[49m\u001b[38;5;241m.\u001b[39mload_dataset(\u001b[38;5;124m'\u001b[39m\u001b[38;5;124mtips\u001b[39m\u001b[38;5;124m'\u001b[39m)\n\u001b[1;32m      2\u001b[0m df\u001b[38;5;241m.\u001b[39mhead(\u001b[38;5;241m10\u001b[39m)\n",
      "\u001b[0;31mNameError\u001b[0m: name 'sns' is not defined"
     ]
    }
   ],
   "source": [
    "df = sns.load_dataset('tips')\n",
    "df.head(10)"
   ]
  },
  {
   "attachments": {},
   "cell_type": "markdown",
   "metadata": {},
   "source": [
    "## 請問：\n",
    "### 觀察值(Observations) = ?\n",
    "### 特徵(features) = ?\n",
    "### 目標(Target) = ?"
   ]
  },
  {
   "attachments": {},
   "cell_type": "markdown",
   "metadata": {},
   "source": [
    "## 迴歸預測"
   ]
  },
  {
   "cell_type": "code",
   "execution_count": null,
   "metadata": {},
   "outputs": [
    {
     "data": {
      "text/plain": [
       "(['Female', 'Male']\n",
       " Categories (2, object): ['Male', 'Female'],\n",
       " ['No', 'Yes']\n",
       " Categories (2, object): ['Yes', 'No'],\n",
       " ['Sun', 'Sat', 'Thur', 'Fri']\n",
       " Categories (4, object): ['Thur', 'Fri', 'Sat', 'Sun'],\n",
       " ['Dinner', 'Lunch']\n",
       " Categories (2, object): ['Lunch', 'Dinner'])"
      ]
     },
     "execution_count": 11,
     "metadata": {},
     "output_type": "execute_result"
    }
   ],
   "source": [
    "df.sex.unique(), df.smoker.unique(), df.day.unique(), df.time.unique()"
   ]
  },
  {
   "cell_type": "code",
   "execution_count": null,
   "metadata": {},
   "outputs": [
    {
     "ename": "NameError",
     "evalue": "name 'train_test_split' is not defined",
     "output_type": "error",
     "traceback": [
      "\u001b[0;31m---------------------------------------------------------------------------\u001b[0m",
      "\u001b[0;31mNameError\u001b[0m                                 Traceback (most recent call last)",
      "Cell \u001b[0;32mIn[12], line 15\u001b[0m\n\u001b[1;32m     12\u001b[0m y \u001b[38;5;241m=\u001b[39m df[\u001b[38;5;124m'\u001b[39m\u001b[38;5;124mtip\u001b[39m\u001b[38;5;124m'\u001b[39m]\n\u001b[1;32m     14\u001b[0m \u001b[38;5;66;03m# 資料切割\u001b[39;00m\n\u001b[0;32m---> 15\u001b[0m X_train, X_test, y_train, y_test \u001b[38;5;241m=\u001b[39m \u001b[43mtrain_test_split\u001b[49m(X, y, test_size\u001b[38;5;241m=\u001b[39m\u001b[38;5;241m2\u001b[39m)\n\u001b[1;32m     17\u001b[0m \u001b[38;5;66;03m# 模型訓練\u001b[39;00m\n\u001b[1;32m     18\u001b[0m model \u001b[38;5;241m=\u001b[39m LinearRegression()\n",
      "\u001b[0;31mNameError\u001b[0m: name 'train_test_split' is not defined"
     ]
    }
   ],
   "source": [
    "from sklearn.linear_model import LinearRegression\n",
    "from sklearn.metrics import mean_squared_error, r2_score\n",
    "\n",
    "# 類別欄位轉為數值\n",
    "df.sex = df.sex.map({'Female':0, 'Male':1})\n",
    "df.smoker = df.smoker.map({'No':0, 'Yes':1})\n",
    "df.day = df.day.map({'Thur':0, 'Fri':1, 'Sat':2, 'Sun':3})\n",
    "df.time = df.time.map({'Lunch':0, 'Dinner':1})\n",
    "\n",
    "# 定義 X/Y\n",
    "X = df.drop('tip', axis=1)\n",
    "y = df['tip']\n",
    "\n",
    "# 資料切割\n",
    "X_train, X_test, y_train, y_test = train_test_split(X, y, test_size=2)\n",
    "\n",
    "# 模型訓練\n",
    "model = LinearRegression()\n",
    "model.fit(X_train, y_train)\n",
    "\n",
    "# 顯示 w、b\n",
    "print(\"Coefficient: \", model.coef_)\n",
    "print(\"Intercept: \", model.intercept_)\n",
    "\n",
    "# test data 預測\n",
    "y_pred = model.predict(X_test)\n",
    "#print(\"R2: \", model.score(X_test, y_test))\n",
    "print(\"R2: \", r2_score(y_test, y_pred))\n",
    "print(\"MSE: \", mean_squared_error(y_test, y_pred))"
   ]
  },
  {
   "attachments": {},
   "cell_type": "markdown",
   "metadata": {},
   "source": [
    "## 企鵝品種分類"
   ]
  },
  {
   "cell_type": "code",
   "execution_count": null,
   "metadata": {},
   "outputs": [],
   "source": [
    "from sklearn.model_selection import train_test_split\n",
    "from sklearn.linear_model import LogisticRegression\n",
    "from sklearn.metrics import accuracy_score\n",
    "\n",
    "# Load dataset\n",
    "df = pd.read_csv('./data/penguins.csv')\n",
    "df.head(10)"
   ]
  },
  {
   "cell_type": "code",
   "execution_count": null,
   "metadata": {},
   "outputs": [],
   "source": [
    "df.island.unique(), df.sex.unique(), df.species.unique()"
   ]
  },
  {
   "cell_type": "code",
   "execution_count": null,
   "metadata": {},
   "outputs": [],
   "source": [
    "# 刪除 missing data\n",
    "df = df.dropna()\n",
    "\n",
    "# 類別欄位轉為數值\n",
    "df.island = df.island.map({'Torgersen':0, 'Biscoe':1, 'Dream':2})\n",
    "df.sex = df.sex.map({'FEMALE':0, 'MALE':1})\n",
    "df.species = df.species.map({'Adelie':0, 'Chinstrap':1, 'Gentoo':2})\n",
    "\n",
    "# 定義 X/Y\n",
    "X = df.drop('species', axis=1)\n",
    "y = df.species\n",
    "\n",
    "# 資料切割\n",
    "X_train, X_test, y_train, y_test = train_test_split(X, y, test_size=2)\n",
    "\n",
    "# 模型訓練\n",
    "clf = LogisticRegression(max_iter=500)\n",
    "clf.fit(X_train, y_train)\n",
    "\n",
    "# test data 預測\n",
    "y_pred = clf.predict(X_test)\n",
    "\n",
    "# 準確度\n",
    "print(\"Accuracy: \", accuracy_score(y_test, y_pred))"
   ]
  },
  {
   "cell_type": "code",
   "execution_count": null,
   "metadata": {},
   "outputs": [],
   "source": [
    "# 變數關聯度\n",
    "df.corr()"
   ]
  },
  {
   "cell_type": "markdown",
   "metadata": {},
   "source": [
    "## 欄位依性質不同分為：\n",
    "### 1. 定性(qualitative)\n",
    "### 2. 定量(quantitative)\n",
    "\n",
    "## 定性(qualitative)又分為：\n",
    "### 1. 有序資料(Ordinal Data)：欄位值有大小、順序的隱含意義。\n",
    "### 2. 名目資料(Nominal Data)：欄位值並沒有大小、順序的隱含意義。\n",
    "\n",
    "## 定量(quantitative)又分為：\n",
    "### 1. 離散型資料(Discrete Data)：不連續。\n",
    "### 2. 連續型資料(Continuous Data)。\n"
   ]
  },
  {
   "cell_type": "markdown",
   "metadata": {},
   "source": [
    "## Quiz 1. 以計程車小費資料集為例，哪一些是定量欄位? 哪一些是有序資料欄位?  哪一些是名目資料欄位? 目標欄位是離散型資料或連續型資料?"
   ]
  },
  {
   "cell_type": "code",
   "execution_count": null,
   "metadata": {},
   "outputs": [],
   "source": []
  },
  {
   "cell_type": "markdown",
   "metadata": {},
   "source": [
    "## 名目資料(Nominal Data)的處理方式\n",
    "### 小於或等於2個類別：一般轉換。\n",
    "### 大於2個類別：One-hot encoding。"
   ]
  },
  {
   "cell_type": "code",
   "execution_count": null,
   "metadata": {},
   "outputs": [],
   "source": []
  },
  {
   "cell_type": "markdown",
   "metadata": {},
   "source": [
    "## One-hot encoding"
   ]
  },
  {
   "cell_type": "code",
   "execution_count": null,
   "metadata": {},
   "outputs": [],
   "source": [
    "df = pd.DataFrame([['green', 'M', 10.1, 'class1'],\n",
    "                   ['red', 'L', 13.5, 'class2'],\n",
    "                   ['blue', 'XL', 15.3, 'class1']])\n",
    "\n",
    "df.columns = ['color', 'size', 'price', 'classlabel']\n",
    "df"
   ]
  },
  {
   "cell_type": "markdown",
   "metadata": {},
   "source": [
    "## Quiz 2. 哪一些是定量欄位? 哪一些是有序資料欄位?  哪一些是名目資料欄位? "
   ]
  },
  {
   "cell_type": "code",
   "execution_count": null,
   "metadata": {},
   "outputs": [],
   "source": [
    "# Pandas One-hot encoding 處理方式\n",
    "pd.get_dummies(df.color)"
   ]
  },
  {
   "cell_type": "code",
   "execution_count": null,
   "metadata": {},
   "outputs": [],
   "source": [
    "# Scikit-learn One-hot encoding 處理方式\n",
    "from sklearn.preprocessing import OneHotEncoder\n",
    "\n",
    "ohe = OneHotEncoder()\n",
    "X2 = ohe.fit_transform(df[['color']].values).toarray()\n",
    "X2"
   ]
  },
  {
   "cell_type": "code",
   "execution_count": null,
   "metadata": {},
   "outputs": [],
   "source": [
    "set(df['color'].unique())"
   ]
  },
  {
   "cell_type": "code",
   "execution_count": null,
   "metadata": {},
   "outputs": [],
   "source": [
    "# 欄位處理\n",
    "color_list = np.sort('is_'+df['color'].unique())\n",
    "color_list"
   ]
  },
  {
   "cell_type": "code",
   "execution_count": null,
   "metadata": {},
   "outputs": [],
   "source": [
    "df2 = pd.DataFrame(X2, columns=color_list)\n",
    "df2"
   ]
  },
  {
   "cell_type": "code",
   "execution_count": null,
   "metadata": {},
   "outputs": [],
   "source": [
    "# 合併\n",
    "df_new = pd.concat((df.drop('color', axis=1), df2), axis=1)\n",
    "df_new"
   ]
  },
  {
   "cell_type": "code",
   "execution_count": null,
   "metadata": {
    "scrolled": true
   },
   "outputs": [],
   "source": [
    "# 還原\n",
    "df_inverse = pd.DataFrame(ohe.inverse_transform(X2), columns=['color'])\n",
    "df_inverse"
   ]
  },
  {
   "cell_type": "markdown",
   "metadata": {},
   "source": [
    "## 樣本(Sample) 與 母體(Population)\n",
    "### 以台北市長選舉為例：\n",
    "### 母體(Population)：全體市民>=20歲\n",
    "### 樣本(Sample) ：抽樣調查1000份"
   ]
  },
  {
   "cell_type": "markdown",
   "metadata": {},
   "source": [
    "## 補充：[以總統民調學習抽樣理論](https://ithelp.ithome.com.tw/articles/10229457)"
   ]
  },
  {
   "cell_type": "code",
   "execution_count": null,
   "metadata": {},
   "outputs": [],
   "source": []
  }
 ],
 "metadata": {
  "kernelspec": {
   "display_name": "Python 3",
   "language": "python",
   "name": "python3"
  },
  "language_info": {
   "codemirror_mode": {
    "name": "ipython",
    "version": 3
   },
   "file_extension": ".py",
   "mimetype": "text/x-python",
   "name": "python",
   "nbconvert_exporter": "python",
   "pygments_lexer": "ipython3",
   "version": "3.9.6"
  }
 },
 "nbformat": 4,
 "nbformat_minor": 2
}
