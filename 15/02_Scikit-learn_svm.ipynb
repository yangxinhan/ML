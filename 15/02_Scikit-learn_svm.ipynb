{
 "cells": [
  {
   "cell_type": "markdown",
   "metadata": {},
   "source": [
    "# 以Scikit-learn SVM進行鳶尾花(Iris)品種的辨識"
   ]
  },
  {
   "cell_type": "markdown",
   "metadata": {},
   "source": [
    "## 載入相關套件"
   ]
  },
  {
   "cell_type": "code",
   "execution_count": 11,
   "metadata": {},
   "outputs": [],
   "source": [
    "from sklearn import datasets\n",
    "from sklearn.model_selection import train_test_split\n",
    "from sklearn.metrics import accuracy_score\n",
    "import numpy as np"
   ]
  },
  {
   "cell_type": "markdown",
   "metadata": {},
   "source": [
    "## 載入資料集"
   ]
  },
  {
   "cell_type": "code",
   "execution_count": 12,
   "metadata": {},
   "outputs": [],
   "source": [
    "X, y = datasets.load_iris(return_X_y=True)"
   ]
  },
  {
   "cell_type": "markdown",
   "metadata": {},
   "source": [
    "## 資料分割"
   ]
  },
  {
   "cell_type": "code",
   "execution_count": 13,
   "metadata": {},
   "outputs": [],
   "source": [
    "X_train, X_test, y_train, y_test = train_test_split(X, y, test_size=.2)"
   ]
  },
  {
   "cell_type": "markdown",
   "metadata": {},
   "source": [
    "## 特徵縮放"
   ]
  },
  {
   "cell_type": "code",
   "execution_count": 14,
   "metadata": {},
   "outputs": [],
   "source": [
    "from sklearn.preprocessing import StandardScaler\n",
    "\n",
    "scaler = StandardScaler()\n",
    "X_train_std = scaler.fit_transform(X_train)\n",
    "X_test_std = scaler.transform(X_test)"
   ]
  },
  {
   "cell_type": "markdown",
   "metadata": {},
   "source": [
    "## 模型訓練"
   ]
  },
  {
   "cell_type": "code",
   "execution_count": 15,
   "metadata": {},
   "outputs": [
    {
     "data": {
      "text/html": [
       "<style>#sk-container-id-2 {color: black;background-color: white;}#sk-container-id-2 pre{padding: 0;}#sk-container-id-2 div.sk-toggleable {background-color: white;}#sk-container-id-2 label.sk-toggleable__label {cursor: pointer;display: block;width: 100%;margin-bottom: 0;padding: 0.3em;box-sizing: border-box;text-align: center;}#sk-container-id-2 label.sk-toggleable__label-arrow:before {content: \"▸\";float: left;margin-right: 0.25em;color: #696969;}#sk-container-id-2 label.sk-toggleable__label-arrow:hover:before {color: black;}#sk-container-id-2 div.sk-estimator:hover label.sk-toggleable__label-arrow:before {color: black;}#sk-container-id-2 div.sk-toggleable__content {max-height: 0;max-width: 0;overflow: hidden;text-align: left;background-color: #f0f8ff;}#sk-container-id-2 div.sk-toggleable__content pre {margin: 0.2em;color: black;border-radius: 0.25em;background-color: #f0f8ff;}#sk-container-id-2 input.sk-toggleable__control:checked~div.sk-toggleable__content {max-height: 200px;max-width: 100%;overflow: auto;}#sk-container-id-2 input.sk-toggleable__control:checked~label.sk-toggleable__label-arrow:before {content: \"▾\";}#sk-container-id-2 div.sk-estimator input.sk-toggleable__control:checked~label.sk-toggleable__label {background-color: #d4ebff;}#sk-container-id-2 div.sk-label input.sk-toggleable__control:checked~label.sk-toggleable__label {background-color: #d4ebff;}#sk-container-id-2 input.sk-hidden--visually {border: 0;clip: rect(1px 1px 1px 1px);clip: rect(1px, 1px, 1px, 1px);height: 1px;margin: -1px;overflow: hidden;padding: 0;position: absolute;width: 1px;}#sk-container-id-2 div.sk-estimator {font-family: monospace;background-color: #f0f8ff;border: 1px dotted black;border-radius: 0.25em;box-sizing: border-box;margin-bottom: 0.5em;}#sk-container-id-2 div.sk-estimator:hover {background-color: #d4ebff;}#sk-container-id-2 div.sk-parallel-item::after {content: \"\";width: 100%;border-bottom: 1px solid gray;flex-grow: 1;}#sk-container-id-2 div.sk-label:hover label.sk-toggleable__label {background-color: #d4ebff;}#sk-container-id-2 div.sk-serial::before {content: \"\";position: absolute;border-left: 1px solid gray;box-sizing: border-box;top: 0;bottom: 0;left: 50%;z-index: 0;}#sk-container-id-2 div.sk-serial {display: flex;flex-direction: column;align-items: center;background-color: white;padding-right: 0.2em;padding-left: 0.2em;position: relative;}#sk-container-id-2 div.sk-item {position: relative;z-index: 1;}#sk-container-id-2 div.sk-parallel {display: flex;align-items: stretch;justify-content: center;background-color: white;position: relative;}#sk-container-id-2 div.sk-item::before, #sk-container-id-2 div.sk-parallel-item::before {content: \"\";position: absolute;border-left: 1px solid gray;box-sizing: border-box;top: 0;bottom: 0;left: 50%;z-index: -1;}#sk-container-id-2 div.sk-parallel-item {display: flex;flex-direction: column;z-index: 1;position: relative;background-color: white;}#sk-container-id-2 div.sk-parallel-item:first-child::after {align-self: flex-end;width: 50%;}#sk-container-id-2 div.sk-parallel-item:last-child::after {align-self: flex-start;width: 50%;}#sk-container-id-2 div.sk-parallel-item:only-child::after {width: 0;}#sk-container-id-2 div.sk-dashed-wrapped {border: 1px dashed gray;margin: 0 0.4em 0.5em 0.4em;box-sizing: border-box;padding-bottom: 0.4em;background-color: white;}#sk-container-id-2 div.sk-label label {font-family: monospace;font-weight: bold;display: inline-block;line-height: 1.2em;}#sk-container-id-2 div.sk-label-container {text-align: center;}#sk-container-id-2 div.sk-container {/* jupyter's `normalize.less` sets `[hidden] { display: none; }` but bootstrap.min.css set `[hidden] { display: none !important; }` so we also need the `!important` here to be able to override the default hidden behavior on the sphinx rendered scikit-learn.org. See: https://github.com/scikit-learn/scikit-learn/issues/21755 */display: inline-block !important;position: relative;}#sk-container-id-2 div.sk-text-repr-fallback {display: none;}</style><div id=\"sk-container-id-2\" class=\"sk-top-container\"><div class=\"sk-text-repr-fallback\"><pre>SVC(probability=True)</pre><b>In a Jupyter environment, please rerun this cell to show the HTML representation or trust the notebook. <br />On GitHub, the HTML representation is unable to render, please try loading this page with nbviewer.org.</b></div><div class=\"sk-container\" hidden><div class=\"sk-item\"><div class=\"sk-estimator sk-toggleable\"><input class=\"sk-toggleable__control sk-hidden--visually\" id=\"sk-estimator-id-2\" type=\"checkbox\" checked><label for=\"sk-estimator-id-2\" class=\"sk-toggleable__label sk-toggleable__label-arrow\">SVC</label><div class=\"sk-toggleable__content\"><pre>SVC(probability=True)</pre></div></div></div></div></div>"
      ],
      "text/plain": [
       "SVC(probability=True)"
      ]
     },
     "execution_count": 15,
     "metadata": {},
     "output_type": "execute_result"
    }
   ],
   "source": [
    "from sklearn.svm import SVC\n",
    "\n",
    "clf = SVC(probability=True)\n",
    "clf.fit(X_train_std, y_train)"
   ]
  },
  {
   "cell_type": "markdown",
   "metadata": {},
   "source": [
    "## 模型評分"
   ]
  },
  {
   "cell_type": "code",
   "execution_count": 16,
   "metadata": {},
   "outputs": [
    {
     "name": "stdout",
     "output_type": "stream",
     "text": [
      "90.00%\n"
     ]
    }
   ],
   "source": [
    "# 計算準確率\n",
    "y_pred = clf.predict(X_test_std)\n",
    "print(f'{accuracy_score(y_test, y_pred)*100:.2f}%') "
   ]
  },
  {
   "cell_type": "code",
   "execution_count": 17,
   "metadata": {},
   "outputs": [
    {
     "data": {
      "text/plain": [
       "array([[-1.72355547, -0.36604246, -1.37008031, -1.34489172],\n",
       "       [-0.90559694,  0.57858324, -1.20087656, -0.94965824],\n",
       "       [-0.08763841,  2.2316782 , -1.4828828 , -1.34489172],\n",
       "       [-1.60670425, -1.782981  , -1.42648155, -1.21314723],\n",
       "       [-1.72355547,  0.34242681, -1.42648155, -1.34489172],\n",
       "       [-1.84040669, -0.12988603, -1.53928405, -1.47663622],\n",
       "       [-0.55504329,  0.81473966, -1.31367906, -1.08140273],\n",
       "       [-1.48985303,  1.28705251, -1.5956853 , -1.34489172],\n",
       "       [-1.02244816, -0.12988603, -1.25727781, -1.34489172],\n",
       "       [-0.43819207,  2.70399105, -1.37008031, -1.34489172],\n",
       "       [ 0.96402255,  0.10627039,  0.49116086,  0.36778672],\n",
       "       [ 0.96402255, -0.12988603,  0.66036461,  0.63127571],\n",
       "       [ 0.14606402, -0.36604246,  0.37835837,  0.36778672],\n",
       "       [ 0.0292128 ,  0.34242681,  0.54756211,  0.7630202 ],\n",
       "       [ 0.14606402,  0.81473966,  0.37835837,  0.49953121],\n",
       "       [ 0.49661768,  0.57858324,  0.49116086,  0.49953121],\n",
       "       [-1.02244816, -2.49145027, -0.18565411, -0.29093576],\n",
       "       [ 1.08087377, -0.60219888,  0.54756211,  0.23604222],\n",
       "       [-1.13929938, -1.54682457, -0.2984566 , -0.29093576],\n",
       "       [-0.90559694, -1.31066815, -0.46766034, -0.15919127],\n",
       "       [-0.55504329, -0.12988603,  0.37835837,  0.36778672],\n",
       "       [-0.32134085, -0.12988603,  0.37835837,  0.36778672],\n",
       "       [ 0.49661768, -1.31066815,  0.60396336,  0.36778672],\n",
       "       [ 0.37976646, -2.01913742,  0.37835837,  0.36778672],\n",
       "       [ 1.31457621,  0.34242681,  0.49116086,  0.23604222],\n",
       "       [ 0.49661768, -1.782981  ,  0.32195712,  0.10429773],\n",
       "       [ 0.26291524, -0.36604246,  0.49116086,  0.23604222],\n",
       "       [-0.43819207, -1.31066815,  0.09635213,  0.10429773],\n",
       "       [ 0.6134689 ,  0.34242681,  0.37835837,  0.36778672],\n",
       "       [ 0.73032011, -0.12988603,  0.94237084,  0.7630202 ],\n",
       "       [ 0.26291524, -0.12988603,  0.60396336,  0.7630202 ],\n",
       "       [ 0.26291524, -1.07451173,  0.99877209,  0.23604222],\n",
       "       [ 0.73032011,  0.34242681,  0.71676585,  1.02650919],\n",
       "       [ 1.54827864,  0.34242681,  1.22437708,  0.7630202 ],\n",
       "       [-0.32134085, -0.60219888,  0.60396336,  1.02650919],\n",
       "       [ 0.14606402, -0.12988603,  0.54756211,  0.7630202 ],\n",
       "       [ 0.14606402, -2.01913742,  0.66036461,  0.36778672],\n",
       "       [-0.08763841, -0.8383553 ,  0.71676585,  0.8947647 ],\n",
       "       [ 0.37976646, -0.60219888,  0.54756211,  0.7630202 ],\n",
       "       [ 0.49661768, -1.31066815,  0.66036461,  0.8947647 ],\n",
       "       [ 1.54827864, -0.12988603,  1.11157459,  0.49953121],\n",
       "       [ 2.36623717,  1.75936536,  1.44998207,  1.02650919],\n",
       "       [ 0.6134689 ,  0.10627039,  0.94237084,  0.7630202 ],\n",
       "       [ 0.49661768, -0.8383553 ,  0.60396336,  0.7630202 ],\n",
       "       [ 0.37976646,  0.81473966,  0.8859696 ,  1.42174268],\n",
       "       [ 2.13253473, -1.07451173,  1.73198831,  1.42174268]])"
      ]
     },
     "execution_count": 17,
     "metadata": {},
     "output_type": "execute_result"
    }
   ],
   "source": [
    "clf.support_vectors_"
   ]
  },
  {
   "cell_type": "code",
   "execution_count": 18,
   "metadata": {},
   "outputs": [
    {
     "data": {
      "text/plain": [
       "array([ 28,  35,  37,  41,  48,  54,  58,  81,  85,  86,   2,   8,  10,\n",
       "        11,  20,  31,  34,  47,  63,  69,  70,  73,  79,  84,  88,  89,\n",
       "        93, 100, 116,  13,  16,  18,  21,  25,  30,  32,  42,  50,  65,\n",
       "        78,  92, 102, 104, 105, 117, 118])"
      ]
     },
     "execution_count": 18,
     "metadata": {},
     "output_type": "execute_result"
    }
   ],
   "source": [
    "clf.support_"
   ]
  },
  {
   "cell_type": "code",
   "execution_count": 19,
   "metadata": {},
   "outputs": [
    {
     "data": {
      "text/plain": [
       "array([[0.27989109, 0.35563274, 0.36447617],\n",
       "       [0.29615597, 0.3719181 , 0.33192593],\n",
       "       [0.23403051, 0.30171653, 0.46425296],\n",
       "       [0.29343777, 0.36920086, 0.33736138],\n",
       "       [0.27946987, 0.35509016, 0.36543997],\n",
       "       [0.29353398, 0.36927159, 0.33719443],\n",
       "       [0.29605237, 0.37181682, 0.33213082],\n",
       "       [0.29616257, 0.371927  , 0.33191043],\n",
       "       [0.28563422, 0.35936028, 0.3550055 ],\n",
       "       [0.29640379, 0.37216684, 0.33142938],\n",
       "       [0.26880423, 0.34477033, 0.38642543],\n",
       "       [0.2963905 , 0.37215338, 0.33145612],\n",
       "       [0.29613784, 0.37190154, 0.33196062],\n",
       "       [0.2913541 , 0.36703712, 0.34160878],\n",
       "       [0.29154991, 0.36726194, 0.34118816],\n",
       "       [0.27372952, 0.34854847, 0.37772201],\n",
       "       [0.2862849 , 0.36152227, 0.35219283],\n",
       "       [0.28860671, 0.36847114, 0.34292215],\n",
       "       [0.29595   , 0.37171086, 0.33233913],\n",
       "       [0.29638644, 0.37214921, 0.33146435],\n",
       "       [0.2950402 , 0.37079505, 0.33416475],\n",
       "       [0.29644062, 0.37220356, 0.33135582],\n",
       "       [0.27468094, 0.35046785, 0.37485121],\n",
       "       [0.26353008, 0.33909562, 0.39737431],\n",
       "       [0.28644929, 0.36186281, 0.3516879 ],\n",
       "       [0.28162575, 0.35732408, 0.36105016],\n",
       "       [0.29640294, 0.37216622, 0.33143084],\n",
       "       [0.29627454, 0.37203762, 0.33168783],\n",
       "       [0.2914991 , 0.36724169, 0.34125921],\n",
       "       [0.29618086, 0.37194373, 0.33187541]])"
      ]
     },
     "execution_count": 19,
     "metadata": {},
     "output_type": "execute_result"
    }
   ],
   "source": [
    "clf.predict_proba(X_test)"
   ]
  },
  {
   "cell_type": "code",
   "execution_count": 20,
   "metadata": {},
   "outputs": [
    {
     "data": {
      "text/plain": [
       "array([[-1.2733547 , -1.03385671, -1.00929412],\n",
       "       [-1.21686902, -0.98908162, -1.10284344],\n",
       "       [-1.45230378, -1.19826735, -0.7673257 ],\n",
       "       [-1.2260897 , -0.99641446, -1.08660058],\n",
       "       [-1.27486078, -1.03538356, -1.00665325],\n",
       "       [-1.22576187, -0.99622288, -1.08709558],\n",
       "       [-1.21721893, -0.98935397, -1.10222636],\n",
       "       [-1.21684675, -0.98905768, -1.10289013],\n",
       "       [-1.25304324, -1.02342983, -1.035622  ],\n",
       "       [-1.21603261, -0.98841304, -1.10434053],\n",
       "       [-1.31377192, -1.06487678, -0.95081636],\n",
       "       [-1.21607743, -0.98844919, -1.10425986],\n",
       "       [-1.21693027, -0.98912613, -1.10273893],\n",
       "       [-1.23321591, -1.00229229, -1.07408912],\n",
       "       [-1.23254408, -1.00167996, -1.07532117],\n",
       "       [-1.29561482, -1.05397797, -0.97359678],\n",
       "       [-1.25076783, -1.01743163, -1.04357643],\n",
       "       [-1.2426904 , -0.99839288, -1.07025182],\n",
       "       [-1.21756475, -0.98963898, -1.10159934],\n",
       "       [-1.21609114, -0.98846039, -1.10423503],\n",
       "       [-1.22064366, -0.99210579, -1.09612115],\n",
       "       [-1.21590836, -0.98831436, -1.1045625 ],\n",
       "       [-1.29214508, -1.0484863 , -0.9812261 ],\n",
       "       [-1.33358778, -1.08147315, -0.9228766 ],\n",
       "       [-1.25019375, -1.01649012, -1.04501115],\n",
       "       [-1.2671762 , -1.02911211, -1.01873838],\n",
       "       [-1.21603546, -0.98841471, -1.10433612],\n",
       "       [-1.21646875, -0.98876029, -1.10356101],\n",
       "       [-1.23271837, -1.00173508, -1.07511295],\n",
       "       [-1.21678501, -0.98901269, -1.10299565]])"
      ]
     },
     "execution_count": 20,
     "metadata": {},
     "output_type": "execute_result"
    }
   ],
   "source": [
    "clf.predict_log_proba(X_test)"
   ]
  },
  {
   "cell_type": "code",
   "execution_count": null,
   "metadata": {},
   "outputs": [],
   "source": []
  }
 ],
 "metadata": {
  "kernelspec": {
   "display_name": "Python 3 (ipykernel)",
   "language": "python",
   "name": "python3"
  },
  "language_info": {
   "codemirror_mode": {
    "name": "ipython",
    "version": 3
   },
   "file_extension": ".py",
   "mimetype": "text/x-python",
   "name": "python",
   "nbconvert_exporter": "python",
   "pygments_lexer": "ipython3",
   "version": "3.9.13"
  }
 },
 "nbformat": 4,
 "nbformat_minor": 2
}
