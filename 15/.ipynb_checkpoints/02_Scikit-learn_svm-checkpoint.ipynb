{
 "cells": [
  {
   "cell_type": "markdown",
   "metadata": {},
   "source": [
    "# 以Scikit-learn SVM進行鳶尾花(Iris)品種的辨識"
   ]
  },
  {
   "cell_type": "markdown",
   "metadata": {},
   "source": [
    "## 載入相關套件"
   ]
  },
  {
   "cell_type": "code",
   "execution_count": 1,
   "metadata": {},
   "outputs": [],
   "source": [
    "from sklearn import datasets\n",
    "from sklearn.model_selection import train_test_split\n",
    "from sklearn.metrics import accuracy_score\n",
    "import numpy as np"
   ]
  },
  {
   "cell_type": "markdown",
   "metadata": {},
   "source": [
    "## 載入資料集"
   ]
  },
  {
   "cell_type": "code",
   "execution_count": 2,
   "metadata": {},
   "outputs": [],
   "source": [
    "X, y = datasets.load_iris(return_X_y=True)"
   ]
  },
  {
   "cell_type": "markdown",
   "metadata": {},
   "source": [
    "## 資料分割"
   ]
  },
  {
   "cell_type": "code",
   "execution_count": 3,
   "metadata": {},
   "outputs": [],
   "source": [
    "X_train, X_test, y_train, y_test = train_test_split(X, y, test_size=.2)"
   ]
  },
  {
   "cell_type": "markdown",
   "metadata": {},
   "source": [
    "## 特徵縮放"
   ]
  },
  {
   "cell_type": "code",
   "execution_count": 4,
   "metadata": {},
   "outputs": [],
   "source": [
    "from sklearn.preprocessing import StandardScaler\n",
    "\n",
    "scaler = StandardScaler()\n",
    "X_train_std = scaler.fit_transform(X_train)\n",
    "X_test_std = scaler.transform(X_test)"
   ]
  },
  {
   "cell_type": "markdown",
   "metadata": {},
   "source": [
    "## 模型訓練"
   ]
  },
  {
   "cell_type": "code",
   "execution_count": 5,
   "metadata": {},
   "outputs": [
    {
     "data": {
      "text/html": [
       "<style>#sk-container-id-1 {color: black;background-color: white;}#sk-container-id-1 pre{padding: 0;}#sk-container-id-1 div.sk-toggleable {background-color: white;}#sk-container-id-1 label.sk-toggleable__label {cursor: pointer;display: block;width: 100%;margin-bottom: 0;padding: 0.3em;box-sizing: border-box;text-align: center;}#sk-container-id-1 label.sk-toggleable__label-arrow:before {content: \"▸\";float: left;margin-right: 0.25em;color: #696969;}#sk-container-id-1 label.sk-toggleable__label-arrow:hover:before {color: black;}#sk-container-id-1 div.sk-estimator:hover label.sk-toggleable__label-arrow:before {color: black;}#sk-container-id-1 div.sk-toggleable__content {max-height: 0;max-width: 0;overflow: hidden;text-align: left;background-color: #f0f8ff;}#sk-container-id-1 div.sk-toggleable__content pre {margin: 0.2em;color: black;border-radius: 0.25em;background-color: #f0f8ff;}#sk-container-id-1 input.sk-toggleable__control:checked~div.sk-toggleable__content {max-height: 200px;max-width: 100%;overflow: auto;}#sk-container-id-1 input.sk-toggleable__control:checked~label.sk-toggleable__label-arrow:before {content: \"▾\";}#sk-container-id-1 div.sk-estimator input.sk-toggleable__control:checked~label.sk-toggleable__label {background-color: #d4ebff;}#sk-container-id-1 div.sk-label input.sk-toggleable__control:checked~label.sk-toggleable__label {background-color: #d4ebff;}#sk-container-id-1 input.sk-hidden--visually {border: 0;clip: rect(1px 1px 1px 1px);clip: rect(1px, 1px, 1px, 1px);height: 1px;margin: -1px;overflow: hidden;padding: 0;position: absolute;width: 1px;}#sk-container-id-1 div.sk-estimator {font-family: monospace;background-color: #f0f8ff;border: 1px dotted black;border-radius: 0.25em;box-sizing: border-box;margin-bottom: 0.5em;}#sk-container-id-1 div.sk-estimator:hover {background-color: #d4ebff;}#sk-container-id-1 div.sk-parallel-item::after {content: \"\";width: 100%;border-bottom: 1px solid gray;flex-grow: 1;}#sk-container-id-1 div.sk-label:hover label.sk-toggleable__label {background-color: #d4ebff;}#sk-container-id-1 div.sk-serial::before {content: \"\";position: absolute;border-left: 1px solid gray;box-sizing: border-box;top: 0;bottom: 0;left: 50%;z-index: 0;}#sk-container-id-1 div.sk-serial {display: flex;flex-direction: column;align-items: center;background-color: white;padding-right: 0.2em;padding-left: 0.2em;position: relative;}#sk-container-id-1 div.sk-item {position: relative;z-index: 1;}#sk-container-id-1 div.sk-parallel {display: flex;align-items: stretch;justify-content: center;background-color: white;position: relative;}#sk-container-id-1 div.sk-item::before, #sk-container-id-1 div.sk-parallel-item::before {content: \"\";position: absolute;border-left: 1px solid gray;box-sizing: border-box;top: 0;bottom: 0;left: 50%;z-index: -1;}#sk-container-id-1 div.sk-parallel-item {display: flex;flex-direction: column;z-index: 1;position: relative;background-color: white;}#sk-container-id-1 div.sk-parallel-item:first-child::after {align-self: flex-end;width: 50%;}#sk-container-id-1 div.sk-parallel-item:last-child::after {align-self: flex-start;width: 50%;}#sk-container-id-1 div.sk-parallel-item:only-child::after {width: 0;}#sk-container-id-1 div.sk-dashed-wrapped {border: 1px dashed gray;margin: 0 0.4em 0.5em 0.4em;box-sizing: border-box;padding-bottom: 0.4em;background-color: white;}#sk-container-id-1 div.sk-label label {font-family: monospace;font-weight: bold;display: inline-block;line-height: 1.2em;}#sk-container-id-1 div.sk-label-container {text-align: center;}#sk-container-id-1 div.sk-container {/* jupyter's `normalize.less` sets `[hidden] { display: none; }` but bootstrap.min.css set `[hidden] { display: none !important; }` so we also need the `!important` here to be able to override the default hidden behavior on the sphinx rendered scikit-learn.org. See: https://github.com/scikit-learn/scikit-learn/issues/21755 */display: inline-block !important;position: relative;}#sk-container-id-1 div.sk-text-repr-fallback {display: none;}</style><div id=\"sk-container-id-1\" class=\"sk-top-container\"><div class=\"sk-text-repr-fallback\"><pre>SVC(probability=True)</pre><b>In a Jupyter environment, please rerun this cell to show the HTML representation or trust the notebook. <br />On GitHub, the HTML representation is unable to render, please try loading this page with nbviewer.org.</b></div><div class=\"sk-container\" hidden><div class=\"sk-item\"><div class=\"sk-estimator sk-toggleable\"><input class=\"sk-toggleable__control sk-hidden--visually\" id=\"sk-estimator-id-1\" type=\"checkbox\" checked><label for=\"sk-estimator-id-1\" class=\"sk-toggleable__label sk-toggleable__label-arrow\">SVC</label><div class=\"sk-toggleable__content\"><pre>SVC(probability=True)</pre></div></div></div></div></div>"
      ],
      "text/plain": [
       "SVC(probability=True)"
      ]
     },
     "execution_count": 5,
     "metadata": {},
     "output_type": "execute_result"
    }
   ],
   "source": [
    "from sklearn.svm import SVC\n",
    "\n",
    "clf = SVC(probability=True)\n",
    "clf.fit(X_train_std, y_train)"
   ]
  },
  {
   "cell_type": "markdown",
   "metadata": {},
   "source": [
    "## 模型評分"
   ]
  },
  {
   "cell_type": "code",
   "execution_count": 6,
   "metadata": {},
   "outputs": [
    {
     "name": "stdout",
     "output_type": "stream",
     "text": [
      "93.33%\n"
     ]
    }
   ],
   "source": [
    "# 計算準確率\n",
    "y_pred = clf.predict(X_test_std)\n",
    "print(f'{accuracy_score(y_test, y_pred)*100:.2f}%') "
   ]
  },
  {
   "cell_type": "code",
   "execution_count": 7,
   "metadata": {},
   "outputs": [
    {
     "data": {
      "text/plain": [
       "array([[-1.0415927 , -0.11338687, -1.24272534, -1.32851629],\n",
       "       [-0.06700304,  2.27370521, -1.47215155, -1.32851629],\n",
       "       [-0.43247416,  2.75112363, -1.35743844, -1.32851629],\n",
       "       [-1.65071123, -1.78435133, -1.414795  , -1.19643513],\n",
       "       [-1.89435865, -0.11338687, -1.52950811, -1.46059744],\n",
       "       [-0.91976899,  0.60274075, -1.18536878, -0.93227282],\n",
       "       [-1.77253494, -0.35209608, -1.35743844, -1.32851629],\n",
       "       [-1.52888752,  1.31886838, -1.58686466, -1.32851629],\n",
       "       [ 1.02941033,  0.12532233,  0.53532784,  0.38853873],\n",
       "       [ 0.17664438,  0.84144996,  0.42061473,  0.52061989],\n",
       "       [-1.0415927 , -1.78435133, -0.26766392, -0.27186704],\n",
       "       [ 0.5421155 , -1.78435133,  0.36325818,  0.12437642],\n",
       "       [-0.91976899, -1.30693292, -0.43973358, -0.13978589],\n",
       "       [-0.43247416, -1.30693292,  0.13383196,  0.12437642],\n",
       "       [ 0.17664438, -0.35209608,  0.42061473,  0.38853873],\n",
       "       [ 1.39488145,  0.36403154,  0.53532784,  0.25645758],\n",
       "       [ 0.42029179, -2.02306054,  0.42061473,  0.38853873],\n",
       "       [ 0.5421155 ,  0.60274075,  0.53532784,  0.52061989],\n",
       "       [-0.31065045, -0.11338687,  0.42061473,  0.38853873],\n",
       "       [ 0.29846808, -0.35209608,  0.53532784,  0.25645758],\n",
       "       [ 0.17664438, -0.8295145 ,  0.76475405,  0.52061989],\n",
       "       [ 1.27305774,  0.12532233,  0.65004095,  0.38853873],\n",
       "       [-0.79794528, -0.8295145 ,  0.07647541,  0.25645758],\n",
       "       [ 0.78576291, -0.59080529,  0.47797128,  0.38853873],\n",
       "       [ 1.15123403, -0.59080529,  0.59268439,  0.25645758],\n",
       "       [-1.1634164 , -1.30693292,  0.42061473,  0.65270104],\n",
       "       [-0.31065045, -0.59080529,  0.65004095,  1.04894451],\n",
       "       [ 2.49129481,  1.79628679,  1.51038925,  1.04894451],\n",
       "       [ 0.29846808, -0.11338687,  0.65004095,  0.7847822 ],\n",
       "       [ 0.5421155 , -0.8295145 ,  0.65004095,  0.7847822 ],\n",
       "       [ 0.17664438, -0.11338687,  0.59268439,  0.7847822 ],\n",
       "       [ 0.42029179,  0.84144996,  0.93682372,  1.44518797],\n",
       "       [ 2.2476474 , -0.59080529,  1.68245892,  1.04894451],\n",
       "       [ 1.88217628, -0.59080529,  1.33831959,  0.91686335],\n",
       "       [ 0.78576291, -0.11338687,  0.82211061,  1.04894451],\n",
       "       [ 0.6639392 ,  0.12532233,  0.99418027,  0.7847822 ],\n",
       "       [ 0.78576291, -0.11338687,  0.99418027,  0.7847822 ],\n",
       "       [ 0.05482067, -0.11338687,  0.76475405,  0.7847822 ],\n",
       "       [ 1.63852886, -0.11338687,  1.16624993,  0.52061989],\n",
       "       [ 0.29846808, -1.06822371,  1.05153682,  0.25645758],\n",
       "       [ 0.5421155 , -1.30693292,  0.7073975 ,  0.91686335],\n",
       "       [ 0.42029179, -0.59080529,  0.59268439,  0.7847822 ],\n",
       "       [ 0.17664438, -2.02306054,  0.7073975 ,  0.38853873]])"
      ]
     },
     "execution_count": 7,
     "metadata": {},
     "output_type": "execute_result"
    }
   ],
   "source": [
    "clf.support_vectors_"
   ]
  },
  {
   "cell_type": "code",
   "execution_count": 8,
   "metadata": {},
   "outputs": [
    {
     "data": {
      "text/plain": [
       "array([ 15,  32,  35,  73,  88,  89,  99, 118,   2,   5,   6,  10,  14,\n",
       "        18,  21,  23,  40,  42,  60,  71,  72,  86,  94, 102, 107,   3,\n",
       "        25,  26,  30,  31,  34,  37,  43,  46,  47,  48,  68,  75,  77,\n",
       "        83, 104, 114, 115])"
      ]
     },
     "execution_count": 8,
     "metadata": {},
     "output_type": "execute_result"
    }
   ],
   "source": [
    "clf.support_"
   ]
  },
  {
   "cell_type": "code",
   "execution_count": 9,
   "metadata": {},
   "outputs": [
    {
     "data": {
      "text/plain": [
       "array([[0.30173975, 0.26016262, 0.43809763],\n",
       "       [0.30172173, 0.26014053, 0.43813774],\n",
       "       [0.26043294, 0.21289099, 0.52667607],\n",
       "       [0.29785342, 0.25537625, 0.44677032],\n",
       "       [0.30173787, 0.26016034, 0.43810179],\n",
       "       [0.28370323, 0.23864675, 0.47765003],\n",
       "       [0.30173568, 0.26015762, 0.4381067 ],\n",
       "       [0.27157926, 0.22427433, 0.5041464 ],\n",
       "       [0.25366152, 0.20592331, 0.54041517],\n",
       "       [0.298549  , 0.25633561, 0.44511539],\n",
       "       [0.2835886 , 0.23818498, 0.47822642],\n",
       "       [0.28426323, 0.239184  , 0.47655277],\n",
       "       [0.30132671, 0.25967293, 0.43900036],\n",
       "       [0.27751741, 0.23154221, 0.49094037],\n",
       "       [0.26223515, 0.21507471, 0.52269014],\n",
       "       [0.3016299 , 0.26002802, 0.43834208],\n",
       "       [0.27437747, 0.22805953, 0.497563  ],\n",
       "       [0.30168076, 0.26009082, 0.43822842],\n",
       "       [0.30112783, 0.25941361, 0.43945856],\n",
       "       [0.27486445, 0.22990393, 0.49523162],\n",
       "       [0.30148848, 0.2598597 , 0.43865182],\n",
       "       [0.30098874, 0.25925683, 0.43975444],\n",
       "       [0.30173826, 0.26016076, 0.43810098],\n",
       "       [0.26940932, 0.22255926, 0.50803141],\n",
       "       [0.30117039, 0.25948141, 0.43934821],\n",
       "       [0.26621155, 0.2183513 , 0.51543715],\n",
       "       [0.29809672, 0.25573628, 0.44616701],\n",
       "       [0.29489115, 0.25217316, 0.45293568],\n",
       "       [0.29901417, 0.25685387, 0.44413196],\n",
       "       [0.3016273 , 0.26002565, 0.43834705]])"
      ]
     },
     "execution_count": 9,
     "metadata": {},
     "output_type": "execute_result"
    }
   ],
   "source": [
    "clf.predict_proba(X_test)"
   ]
  },
  {
   "cell_type": "code",
   "execution_count": 10,
   "metadata": {},
   "outputs": [
    {
     "data": {
      "text/plain": [
       "array([[-1.19819038, -1.34644838, -0.8253135 ],\n",
       "       [-1.1982501 , -1.34653331, -0.82522194],\n",
       "       [-1.34540987, -1.54697502, -0.64116959],\n",
       "       [-1.21115378, -1.36501732, -0.80571064],\n",
       "       [-1.19819662, -1.34645715, -0.825304  ],\n",
       "       [-1.25982657, -1.43277087, -0.73887697],\n",
       "       [-1.19820389, -1.3464676 , -0.82529278],\n",
       "       [-1.30350123, -1.49488528, -0.68488857],\n",
       "       [-1.37175448, -1.58025147, -0.61541761],\n",
       "       [-1.2088212 , -1.3612677 , -0.80942174],\n",
       "       [-1.26023068, -1.43470768, -0.73767098],\n",
       "       [-1.25785459, -1.43052215, -0.74117682],\n",
       "       [-1.1995602 , -1.3483324 , -0.82325504],\n",
       "       [-1.2818716 , -1.46299307, -0.7114326 ],\n",
       "       [-1.33851366, -1.53676984, -0.64876645],\n",
       "       [-1.19855451, -1.34696588, -0.82475568],\n",
       "       [-1.29325049, -1.47814859, -0.6980331 ],\n",
       "       [-1.19838592, -1.3467244 , -0.82501499],\n",
       "       [-1.20022043, -1.34933154, -0.82221185],\n",
       "       [-1.29147722, -1.47009373, -0.70272971],\n",
       "       [-1.19902347, -1.3476134 , -0.82404931],\n",
       "       [-1.20068243, -1.34993611, -0.82153881],\n",
       "       [-1.19819533, -1.34645552, -0.82530585],\n",
       "       [-1.31152341, -1.50256186, -0.677212  ],\n",
       "       [-1.20007911, -1.34907022, -0.822463  ],\n",
       "       [-1.32346397, -1.52165004, -0.66273991],\n",
       "       [-1.21033729, -1.36360854, -0.80706194],\n",
       "       [-1.22114896, -1.37763928, -0.79200514],\n",
       "       [-1.2072643 , -1.35924795, -0.81163356],\n",
       "       [-1.19856313, -1.34697498, -0.82474434]])"
      ]
     },
     "execution_count": 10,
     "metadata": {},
     "output_type": "execute_result"
    }
   ],
   "source": [
    "clf.predict_log_proba(X_test)"
   ]
  },
  {
   "cell_type": "code",
   "execution_count": null,
   "metadata": {},
   "outputs": [],
   "source": []
  }
 ],
 "metadata": {
  "kernelspec": {
   "display_name": "Python 3 (ipykernel)",
   "language": "python",
   "name": "python3"
  },
  "language_info": {
   "codemirror_mode": {
    "name": "ipython",
    "version": 3
   },
   "file_extension": ".py",
   "mimetype": "text/x-python",
   "name": "python",
   "nbconvert_exporter": "python",
   "pygments_lexer": "ipython3",
   "version": "3.9.13"
  }
 },
 "nbformat": 4,
 "nbformat_minor": 2
}
