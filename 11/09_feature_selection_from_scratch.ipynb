{
 "cells": [
  {
   "attachments": {},
   "cell_type": "markdown",
   "metadata": {},
   "source": [
    "# 特徵選取\n",
    "## 簡易的自行開發作法(From scratch)"
   ]
  },
  {
   "cell_type": "code",
   "execution_count": 1,
   "metadata": {},
   "outputs": [],
   "source": [
    "from sklearn.datasets import load_wine\n",
    "from sklearn.linear_model import LogisticRegression\n",
    "from sklearn.neighbors import KNeighborsClassifier\n",
    "from sklearn.model_selection import train_test_split\n",
    "import seaborn as sns\n",
    "import pandas as pd\n",
    "import numpy as np\n",
    "from matplotlib import pyplot as plt\n",
    "\n",
    "# 設定中文字型\n",
    "plt.rcParams['font.sans-serif'] = ['Arial Unicode MS']  \n",
    "# 矯正負號\n",
    "plt.rcParams['axes.unicode_minus'] = False"
   ]
  },
  {
   "cell_type": "markdown",
   "metadata": {},
   "source": [
    "## 載入資料"
   ]
  },
  {
   "cell_type": "code",
   "execution_count": 11,
   "metadata": {},
   "outputs": [],
   "source": [
    "X, y = load_wine(return_X_y=True, as_frame=True)"
   ]
  },
  {
   "cell_type": "markdown",
   "metadata": {},
   "source": [
    "## 資料分割"
   ]
  },
  {
   "cell_type": "code",
   "execution_count": 22,
   "metadata": {},
   "outputs": [],
   "source": [
    "X_train, X_test, y_train, y_test = train_test_split(X.values, y, test_size=0.5, random_state=42)"
   ]
  },
  {
   "cell_type": "markdown",
   "metadata": {},
   "source": [
    "## 模型訓練及評估函數"
   ]
  },
  {
   "cell_type": "code",
   "execution_count": 49,
   "metadata": {},
   "outputs": [],
   "source": [
    "from sklearn.metrics import accuracy_score\n",
    "\n",
    "def calc_score(X_train, y_train, X_test, y_test, indices):\n",
    "    estimator=LogisticRegression()\n",
    "    # print(indices, X_train.shape)\n",
    "    estimator.fit(X_train[:, indices], y_train)\n",
    "    y_pred = estimator.predict(X_test[:, indices])\n",
    "    score = accuracy_score(y_test, y_pred)\n",
    "    return score"
   ]
  },
  {
   "cell_type": "code",
   "execution_count": 50,
   "metadata": {},
   "outputs": [],
   "source": [
    "# 隱藏警告訊息\n",
    "import warnings\n",
    "warnings.filterwarnings('ignore')"
   ]
  },
  {
   "attachments": {},
   "cell_type": "markdown",
   "metadata": {},
   "source": [
    "## 測試選取2個特徵的所有組合"
   ]
  },
  {
   "cell_type": "code",
   "execution_count": 51,
   "metadata": {
    "scrolled": true
   },
   "outputs": [
    {
     "name": "stdout",
     "output_type": "stream",
     "text": [
      "(0, 1) 0.7752808988764045\n",
      "(0, 2) 0.7415730337078652\n",
      "(0, 3) 0.7865168539325843\n",
      "(0, 4) 0.7078651685393258\n",
      "(0, 5) 0.8651685393258427\n",
      "(0, 6) 0.9325842696629213\n",
      "(0, 7) 0.7191011235955056\n",
      "(0, 8) 0.7528089887640449\n",
      "(0, 9) 0.8314606741573034\n",
      "(0, 10) 0.8314606741573034\n",
      "(0, 11) 0.8876404494382022\n",
      "(0, 12) 0.8651685393258427\n",
      "(1, 2) 0.5955056179775281\n",
      "(1, 3) 0.6179775280898876\n",
      "(1, 4) 0.5730337078651685\n",
      "(1, 5) 0.7191011235955056\n",
      "(1, 6) 0.7528089887640449\n",
      "(1, 7) 0.48314606741573035\n",
      "(1, 8) 0.550561797752809\n",
      "(1, 9) 0.7640449438202247\n",
      "(1, 10) 0.550561797752809\n",
      "(1, 11) 0.6966292134831461\n",
      "(1, 12) 0.7752808988764045\n",
      "(2, 3) 0.5842696629213483\n",
      "(2, 4) 0.5168539325842697\n",
      "(2, 5) 0.7303370786516854\n",
      "(2, 6) 0.797752808988764\n",
      "(2, 7) 0.5168539325842697\n",
      "(2, 8) 0.5842696629213483\n",
      "(2, 9) 0.6853932584269663\n",
      "(2, 10) 0.6629213483146067\n",
      "(2, 11) 0.7191011235955056\n",
      "(2, 12) 0.6966292134831461\n",
      "(3, 4) 0.5393258426966292\n",
      "(3, 5) 0.7191011235955056\n",
      "(3, 6) 0.8202247191011236\n",
      "(3, 7) 0.4943820224719101\n",
      "(3, 8) 0.6179775280898876\n",
      "(3, 9) 0.7528089887640449\n",
      "(3, 10) 0.6966292134831461\n",
      "(3, 11) 0.6966292134831461\n",
      "(3, 12) 0.6741573033707865\n",
      "(4, 5) 0.6741573033707865\n",
      "(4, 6) 0.7752808988764045\n",
      "(4, 7) 0.5280898876404494\n",
      "(4, 8) 0.6179775280898876\n",
      "(4, 9) 0.7303370786516854\n",
      "(4, 10) 0.651685393258427\n",
      "(4, 11) 0.6966292134831461\n",
      "(4, 12) 0.6966292134831461\n",
      "(5, 6) 0.7415730337078652\n",
      "(5, 7) 0.7191011235955056\n",
      "(5, 8) 0.7078651685393258\n",
      "(5, 9) 0.8539325842696629\n",
      "(5, 10) 0.7191011235955056\n",
      "(5, 11) 0.7415730337078652\n",
      "(5, 12) 0.8651685393258427\n",
      "(6, 7) 0.7415730337078652\n",
      "(6, 8) 0.7303370786516854\n",
      "(6, 9) 0.8539325842696629\n",
      "(6, 10) 0.7640449438202247\n",
      "(6, 11) 0.7528089887640449\n",
      "(6, 12) 0.9213483146067416\n",
      "(7, 8) 0.5056179775280899\n",
      "(7, 9) 0.7191011235955056\n",
      "(7, 10) 0.5730337078651685\n",
      "(7, 11) 0.6966292134831461\n",
      "(7, 12) 0.6966292134831461\n",
      "(8, 9) 0.7752808988764045\n",
      "(8, 10) 0.5842696629213483\n",
      "(8, 11) 0.6853932584269663\n",
      "(8, 12) 0.8314606741573034\n",
      "(9, 10) 0.7865168539325843\n",
      "(9, 11) 0.8202247191011236\n",
      "(9, 12) 0.8764044943820225\n",
      "(10, 11) 0.7191011235955056\n",
      "(10, 12) 0.9101123595505618\n",
      "(11, 12) 0.898876404494382\n"
     ]
    }
   ],
   "source": [
    "from itertools import combinations\n",
    "import numpy as np\n",
    "\n",
    "scores = []\n",
    "subsets = []\n",
    "\n",
    "dim=2 #X.shape[1]\n",
    "indices_ = tuple(range(X.shape[1]))\n",
    "for p in combinations(indices_, r=dim):\n",
    "    score = calc_score(X_train, y_train, X_test, y_test, p)\n",
    "    print(p, score)\n",
    "    scores.append(score)\n",
    "    subsets.append(p)"
   ]
  },
  {
   "attachments": {},
   "cell_type": "markdown",
   "metadata": {},
   "source": [
    "## 找出準確率最高的組合"
   ]
  },
  {
   "cell_type": "code",
   "execution_count": 52,
   "metadata": {
    "scrolled": true
   },
   "outputs": [
    {
     "name": "stdout",
     "output_type": "stream",
     "text": [
      "5 (0, 6) 0.9325842696629213\n"
     ]
    }
   ],
   "source": [
    "best = np.argmax(scores)\n",
    "indices_ = subsets[best]\n",
    "print(best, indices_, scores[best])"
   ]
  },
  {
   "cell_type": "markdown",
   "metadata": {},
   "source": [
    "## 準確率最高的組合為(0, 6)，名稱分別為()"
   ]
  },
  {
   "cell_type": "code",
   "execution_count": 53,
   "metadata": {},
   "outputs": [
    {
     "data": {
      "text/plain": [
       "['alcohol', 'flavanoids']"
      ]
     },
     "execution_count": 53,
     "metadata": {},
     "output_type": "execute_result"
    }
   ],
   "source": [
    "[np.array(X.columns)[i] for i in indices_]"
   ]
  },
  {
   "cell_type": "markdown",
   "metadata": {},
   "source": [
    "## 測試選取1~13個特徵的所有組合"
   ]
  },
  {
   "cell_type": "code",
   "execution_count": 54,
   "metadata": {
    "scrolled": true
   },
   "outputs": [
    {
     "name": "stdout",
     "output_type": "stream",
     "text": [
      "6 (6,) 0.7528089887640449\n",
      "5 (0, 6) 0.9325842696629213\n",
      "262 (6, 9, 12) 0.9662921348314607\n",
      "57 (0, 2, 3, 6) 0.9662921348314607\n",
      "1268 (6, 7, 8, 9, 12) 0.9775280898876404\n",
      "1235 (1, 6, 7, 8, 9, 12) 0.9775280898876404\n",
      "32 (0, 1, 2, 3, 5, 6, 11) 0.9662921348314607\n",
      "93 (0, 1, 2, 3, 6, 7, 8, 11) 0.9662921348314607\n",
      "323 (0, 1, 5, 6, 7, 8, 9, 10, 12) 0.9662921348314607\n",
      "95 (0, 1, 2, 4, 5, 6, 8, 9, 10, 12) 0.9662921348314607\n",
      "70 (1, 2, 3, 4, 5, 6, 7, 9, 10, 11, 12) 0.9662921348314607\n",
      "12 (1, 2, 3, 4, 5, 6, 7, 8, 9, 10, 11, 12) 0.9550561797752809\n",
      "0 (0, 1, 2, 3, 4, 5, 6, 7, 8, 9, 10, 11, 12) 0.9325842696629213\n"
     ]
    }
   ],
   "source": [
    "# 執行有點久\n",
    "from itertools import combinations\n",
    "\n",
    "scores = []\n",
    "subsets = []\n",
    "\n",
    "best_score_list=[]\n",
    "best_indices_list=[]\n",
    "for dim in range(1, X.shape[1]+1): \n",
    "    scores=[]\n",
    "    subsets = []\n",
    "    indices_ = tuple(range(X.shape[1]))\n",
    "    for p in combinations(indices_, r=dim):\n",
    "        score = calc_score(X_train, y_train, X_test, y_test, p)\n",
    "        #print(p, score)\n",
    "        scores.append(score)\n",
    "        subsets.append(p)\n",
    "    \n",
    "    best = np.argmax(scores)\n",
    "    indices_ = subsets[best]\n",
    "    print(best, indices_, scores[best])\n",
    "    best_score_list.append(scores[best])\n",
    "    best_indices_list.append(indices_)"
   ]
  },
  {
   "cell_type": "markdown",
   "metadata": {},
   "source": [
    "## 繪圖"
   ]
  },
  {
   "cell_type": "code",
   "execution_count": 55,
   "metadata": {
    "scrolled": true
   },
   "outputs": [
    {
     "data": {
      "text/plain": [
       "[<matplotlib.lines.Line2D at 0x1a9f23acbb0>]"
      ]
     },
     "execution_count": 55,
     "metadata": {},
     "output_type": "execute_result"
    },
    {
     "data": {
      "image/png": "[encoded data removed]",
      "text/plain": [
       "<Figure size 600x300 with 1 Axes>"
      ]
     },
     "metadata": {},
     "output_type": "display_data"
    }
   ],
   "source": [
    "plt.figure(figsize=(6,3))\n",
    "No=np.arange(1, len(best_score_list)+1)\n",
    "plt.plot(No, best_score_list, marker='o', markersize=6)"
   ]
  },
  {
   "cell_type": "markdown",
   "metadata": {},
   "source": [
    "### 可依主觀判斷決定選取特徵數，如以準確率收斂程度為判斷標準，可能會選擇3。"
   ]
  },
  {
   "cell_type": "code",
   "execution_count": 56,
   "metadata": {},
   "outputs": [
    {
     "data": {
      "text/plain": [
       "(6, 9, 12)"
      ]
     },
     "execution_count": 56,
     "metadata": {},
     "output_type": "execute_result"
    }
   ],
   "source": [
    "best_indices_list[2]"
   ]
  },
  {
   "cell_type": "code",
   "execution_count": 95,
   "metadata": {},
   "outputs": [
    {
     "data": {
      "text/plain": [
       "['flavanoids', 'color_intensity', 'proline']"
      ]
     },
     "execution_count": 95,
     "metadata": {},
     "output_type": "execute_result"
    }
   ],
   "source": [
    "[np.array(X.columns)[i] for i in best_indices_list[2]]"
   ]
  },
  {
   "cell_type": "markdown",
   "metadata": {},
   "source": [
    "# 使用隨機森林比較"
   ]
  },
  {
   "cell_type": "code",
   "execution_count": 96,
   "metadata": {},
   "outputs": [
    {
     "data": {
      "text/html": [
       "<style>#sk-container-id-1 {color: black;background-color: white;}#sk-container-id-1 pre{padding: 0;}#sk-container-id-1 div.sk-toggleable {background-color: white;}#sk-container-id-1 label.sk-toggleable__label {cursor: pointer;display: block;width: 100%;margin-bottom: 0;padding: 0.3em;box-sizing: border-box;text-align: center;}#sk-container-id-1 label.sk-toggleable__label-arrow:before {content: \"▸\";float: left;margin-right: 0.25em;color: #696969;}#sk-container-id-1 label.sk-toggleable__label-arrow:hover:before {color: black;}#sk-container-id-1 div.sk-estimator:hover label.sk-toggleable__label-arrow:before {color: black;}#sk-container-id-1 div.sk-toggleable__content {max-height: 0;max-width: 0;overflow: hidden;text-align: left;background-color: #f0f8ff;}#sk-container-id-1 div.sk-toggleable__content pre {margin: 0.2em;color: black;border-radius: 0.25em;background-color: #f0f8ff;}#sk-container-id-1 input.sk-toggleable__control:checked~div.sk-toggleable__content {max-height: 200px;max-width: 100%;overflow: auto;}#sk-container-id-1 input.sk-toggleable__control:checked~label.sk-toggleable__label-arrow:before {content: \"▾\";}#sk-container-id-1 div.sk-estimator input.sk-toggleable__control:checked~label.sk-toggleable__label {background-color: #d4ebff;}#sk-container-id-1 div.sk-label input.sk-toggleable__control:checked~label.sk-toggleable__label {background-color: #d4ebff;}#sk-container-id-1 input.sk-hidden--visually {border: 0;clip: rect(1px 1px 1px 1px);clip: rect(1px, 1px, 1px, 1px);height: 1px;margin: -1px;overflow: hidden;padding: 0;position: absolute;width: 1px;}#sk-container-id-1 div.sk-estimator {font-family: monospace;background-color: #f0f8ff;border: 1px dotted black;border-radius: 0.25em;box-sizing: border-box;margin-bottom: 0.5em;}#sk-container-id-1 div.sk-estimator:hover {background-color: #d4ebff;}#sk-container-id-1 div.sk-parallel-item::after {content: \"\";width: 100%;border-bottom: 1px solid gray;flex-grow: 1;}#sk-container-id-1 div.sk-label:hover label.sk-toggleable__label {background-color: #d4ebff;}#sk-container-id-1 div.sk-serial::before {content: \"\";position: absolute;border-left: 1px solid gray;box-sizing: border-box;top: 0;bottom: 0;left: 50%;z-index: 0;}#sk-container-id-1 div.sk-serial {display: flex;flex-direction: column;align-items: center;background-color: white;padding-right: 0.2em;padding-left: 0.2em;position: relative;}#sk-container-id-1 div.sk-item {position: relative;z-index: 1;}#sk-container-id-1 div.sk-parallel {display: flex;align-items: stretch;justify-content: center;background-color: white;position: relative;}#sk-container-id-1 div.sk-item::before, #sk-container-id-1 div.sk-parallel-item::before {content: \"\";position: absolute;border-left: 1px solid gray;box-sizing: border-box;top: 0;bottom: 0;left: 50%;z-index: -1;}#sk-container-id-1 div.sk-parallel-item {display: flex;flex-direction: column;z-index: 1;position: relative;background-color: white;}#sk-container-id-1 div.sk-parallel-item:first-child::after {align-self: flex-end;width: 50%;}#sk-container-id-1 div.sk-parallel-item:last-child::after {align-self: flex-start;width: 50%;}#sk-container-id-1 div.sk-parallel-item:only-child::after {width: 0;}#sk-container-id-1 div.sk-dashed-wrapped {border: 1px dashed gray;margin: 0 0.4em 0.5em 0.4em;box-sizing: border-box;padding-bottom: 0.4em;background-color: white;}#sk-container-id-1 div.sk-label label {font-family: monospace;font-weight: bold;display: inline-block;line-height: 1.2em;}#sk-container-id-1 div.sk-label-container {text-align: center;}#sk-container-id-1 div.sk-container {/* jupyter's `normalize.less` sets `[hidden] { display: none; }` but bootstrap.min.css set `[hidden] { display: none !important; }` so we also need the `!important` here to be able to override the default hidden behavior on the sphinx rendered scikit-learn.org. See: https://github.com/scikit-learn/scikit-learn/issues/21755 */display: inline-block !important;position: relative;}#sk-container-id-1 div.sk-text-repr-fallback {display: none;}</style><div id=\"sk-container-id-1\" class=\"sk-top-container\"><div class=\"sk-text-repr-fallback\"><pre>RandomForestClassifier(n_estimators=500, random_state=1)</pre><b>In a Jupyter environment, please rerun this cell to show the HTML representation or trust the notebook. <br />On GitHub, the HTML representation is unable to render, please try loading this page with nbviewer.org.</b></div><div class=\"sk-container\" hidden><div class=\"sk-item\"><div class=\"sk-estimator sk-toggleable\"><input class=\"sk-toggleable__control sk-hidden--visually\" id=\"sk-estimator-id-1\" type=\"checkbox\" checked><label for=\"sk-estimator-id-1\" class=\"sk-toggleable__label sk-toggleable__label-arrow\">RandomForestClassifier</label><div class=\"sk-toggleable__content\"><pre>RandomForestClassifier(n_estimators=500, random_state=1)</pre></div></div></div></div></div>"
      ],
      "text/plain": [
       "RandomForestClassifier(n_estimators=500, random_state=1)"
      ]
     },
     "execution_count": 96,
     "metadata": {},
     "output_type": "execute_result"
    }
   ],
   "source": [
    "from sklearn.ensemble import RandomForestClassifier\n",
    "\n",
    "forest = RandomForestClassifier(n_estimators=500, random_state=1)\n",
    "forest.fit(X_train, y_train)"
   ]
  },
  {
   "cell_type": "markdown",
   "metadata": {},
   "source": [
    "## 載入資料"
   ]
  },
  {
   "cell_type": "code",
   "execution_count": 97,
   "metadata": {},
   "outputs": [
    {
     "data": {
      "text/plain": [
       "['alcohol',\n",
       " 'malic_acid',\n",
       " 'ash',\n",
       " 'alcalinity_of_ash',\n",
       " 'magnesium',\n",
       " 'total_phenols',\n",
       " 'flavanoids',\n",
       " 'nonflavanoid_phenols',\n",
       " 'proanthocyanins',\n",
       " 'color_intensity',\n",
       " 'hue',\n",
       " 'od280/od315_of_diluted_wines',\n",
       " 'proline']"
      ]
     },
     "execution_count": 97,
     "metadata": {},
     "output_type": "execute_result"
    }
   ],
   "source": [
    "X.columns.to_list()"
   ]
  },
  {
   "cell_type": "code",
   "execution_count": 98,
   "metadata": {},
   "outputs": [
    {
     "name": "stdout",
     "output_type": "stream",
     "text": [
      "10 color_intensity      0.1832\n",
      "07 flavanoids           0.1565\n",
      "12 od280                0.1390\n",
      "13 proline              0.1347\n",
      "01 alcohol              0.1107\n",
      "11 hue                  0.0687\n",
      "04 alcalinity_of_ash    0.0519\n",
      "06 total_phenols        0.0471\n",
      "09 proanthocyanins      0.0307\n",
      "05 magnesium            0.0295\n",
      "02 malic_acid           0.0207\n",
      "03 ash                  0.0162\n",
      "08 nonflavanoid_phenols 0.0112\n"
     ]
    }
   ],
   "source": [
    "importances = forest.feature_importances_\n",
    "indices = np.argsort(importances)[::-1]\n",
    "\n",
    "column_list = X.columns.to_list().copy()\n",
    "column_list[-2]='od280'\n",
    "# print(indices)\n",
    "# print([column_list[i] for i in indices])\n",
    "for f in indices:\n",
    "    print(f\"{f+1:02d} {column_list[f]:20s} {importances[f]:.4f}\")"
   ]
  },
  {
   "cell_type": "code",
   "execution_count": 105,
   "metadata": {},
   "outputs": [
    {
     "data": {
      "image/png": "[encoded data removed]",
      "text/plain": [
       "<Figure size 600x300 with 1 Axes>"
      ]
     },
     "metadata": {},
     "output_type": "display_data"
    }
   ],
   "source": [
    "plt.figure(figsize=(6,3))\n",
    "plt.title('Feature Importance')\n",
    "plt.bar(range(len(importances)), \n",
    "        importances[indices],\n",
    "        align='center')\n",
    "\n",
    "plt.xticks(range(len(importances)), \n",
    "           np.array(column_list)[indices], rotation=45)\n",
    "plt.tight_layout()\n",
    "plt.show()"
   ]
  },
  {
   "cell_type": "markdown",
   "metadata": {},
   "source": [
    "## Pareto chart"
   ]
  },
  {
   "cell_type": "code",
   "execution_count": 102,
   "metadata": {},
   "outputs": [
    {
     "data": {
      "text/plain": [
       "array([0.18316182, 0.15649858, 0.13897485, 0.13466894, 0.11069571,\n",
       "       0.06871541, 0.05193617, 0.04710526, 0.0307224 , 0.02946657,\n",
       "       0.02065105, 0.016155  , 0.01124823])"
      ]
     },
     "execution_count": 102,
     "metadata": {},
     "output_type": "execute_result"
    }
   ],
   "source": [
    "var_exp = importances[indices]\n",
    "var_exp"
   ]
  },
  {
   "cell_type": "code",
   "execution_count": 103,
   "metadata": {},
   "outputs": [
    {
     "data": {
      "text/plain": [
       "array([0.18316182, 0.3396604 , 0.47863526, 0.61330419, 0.72399991,\n",
       "       0.79271532, 0.84465149, 0.89175676, 0.92247915, 0.95194572,\n",
       "       0.97259677, 0.98875177, 1.        ])"
      ]
     },
     "execution_count": 103,
     "metadata": {},
     "output_type": "execute_result"
    }
   ],
   "source": [
    "cum_var_exp = np.cumsum(var_exp)\n",
    "cum_var_exp"
   ]
  },
  {
   "cell_type": "code",
   "execution_count": 106,
   "metadata": {
    "scrolled": true
   },
   "outputs": [
    {
     "data": {
      "image/png": "[encoded data removed]",
      "text/plain": [
       "<Figure size 600x300 with 1 Axes>"
      ]
     },
     "metadata": {},
     "output_type": "display_data"
    }
   ],
   "source": [
    "plt.figure(figsize=(6,3))\n",
    "plt.bar(range(1, 14), var_exp, alpha=0.5, align='center',\n",
    "        label='individual explained variance')\n",
    "plt.step(range(1, 14), cum_var_exp, where='mid',\n",
    "         label='cumulative explained variance')\n",
    "plt.ylabel('Explained variance ratio')\n",
    "plt.xlabel('Principal component index')\n",
    "plt.legend(loc='best')\n",
    "plt.tight_layout()\n",
    "plt.axhline(0.8, color='r', linestyle='--')\n",
    "plt.show()"
   ]
  },
  {
   "cell_type": "code",
   "execution_count": null,
   "metadata": {},
   "outputs": [],
   "source": []
  }
 ],
 "metadata": {
  "kernelspec": {
   "display_name": "Python 3 (ipykernel)",
   "language": "python",
   "name": "python3"
  },
  "language_info": {
   "codemirror_mode": {
    "name": "ipython",
    "version": 3
   },
   "file_extension": ".py",
   "mimetype": "text/x-python",
   "name": "python",
   "nbconvert_exporter": "python",
   "pygments_lexer": "ipython3",
   "version": "3.9.13"
  }
 },
 "nbformat": 4,
 "nbformat_minor": 2
}
