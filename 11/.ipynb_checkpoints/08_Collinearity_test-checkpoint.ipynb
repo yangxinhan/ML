{
 "cells": [
  {
   "attachments": {},
   "cell_type": "markdown",
   "id": "de2bed8e",
   "metadata": {},
   "source": [
    "# 多重共線性(Multicollinearity)"
   ]
  },
  {
   "cell_type": "markdown",
   "id": "7c54918f",
   "metadata": {},
   "source": [
    "## 載入套件"
   ]
  },
  {
   "cell_type": "code",
   "execution_count": 32,
   "id": "91e0f635",
   "metadata": {},
   "outputs": [],
   "source": [
    "import seaborn as sns\n",
    "import pandas as pd\n",
    "import numpy as np\n",
    "from matplotlib import pyplot as plt\n",
    "\n",
    "# 設定中文字型\n",
    "plt.rcParams['font.sans-serif'] = ['Arial Unicode MS']  \n",
    "# 矯正負號\n",
    "plt.rcParams['axes.unicode_minus'] = False\n"
   ]
  },
  {
   "cell_type": "markdown",
   "id": "15c66c4f",
   "metadata": {},
   "source": [
    "## 載入資料"
   ]
  },
  {
   "cell_type": "code",
   "execution_count": 33,
   "id": "9c5abdfc",
   "metadata": {
    "scrolled": true
   },
   "outputs": [
    {
     "data": {
      "image/png": "[encoded data removed]",
      "text/plain": [
       "<Figure size 500x300 with 1 Axes>"
      ]
     },
     "metadata": {},
     "output_type": "display_data"
    }
   ],
   "source": [
    "from sklearn.datasets import make_regression\n",
    "X, y = make_regression(n_samples=100, n_features=1, noise=10, random_state=42)\n",
    "\n",
    "plt.figure(figsize=(5,3));\n",
    "plt.scatter(X, y)\n",
    "plt.show()"
   ]
  },
  {
   "cell_type": "markdown",
   "id": "4414bf6b",
   "metadata": {},
   "source": [
    "## 迴歸"
   ]
  },
  {
   "cell_type": "code",
   "execution_count": 34,
   "id": "e12dfcd9",
   "metadata": {
    "scrolled": false
   },
   "outputs": [
    {
     "data": {
      "image/png": "[encoded data removed]",
      "text/plain": [
       "<Figure size 500x300 with 1 Axes>"
      ]
     },
     "metadata": {},
     "output_type": "display_data"
    }
   ],
   "source": [
    "from sklearn.linear_model import LinearRegression\n",
    "model = LinearRegression()\n",
    "model.fit(X, y)\n",
    "X_pred = np.linspace(np.min(X.reshape(-1)), np.max(X.reshape(-1)), 20)\n",
    "y_pred = X_pred * model.coef_[0] + model.intercept_\n",
    "plt.figure(figsize=(5,3));\n",
    "plt.scatter(X, y)\n",
    "plt.plot(X_pred, y_pred, c='red')\n",
    "plt.show()"
   ]
  },
  {
   "cell_type": "code",
   "execution_count": 35,
   "id": "bc2f41bc",
   "metadata": {},
   "outputs": [
    {
     "data": {
      "text/plain": [
       "0.9538252459635717"
      ]
     },
     "execution_count": 35,
     "metadata": {},
     "output_type": "execute_result"
    }
   ],
   "source": [
    "model.score(X, y)"
   ]
  },
  {
   "cell_type": "code",
   "execution_count": 36,
   "id": "1f7189a7",
   "metadata": {},
   "outputs": [
    {
     "data": {
      "text/plain": [
       "array([44.43716999])"
      ]
     },
     "execution_count": 36,
     "metadata": {},
     "output_type": "execute_result"
    }
   ],
   "source": [
    "model.coef_"
   ]
  },
  {
   "cell_type": "markdown",
   "id": "cb9a52c8",
   "metadata": {},
   "source": [
    "## 產生X的共線資料"
   ]
  },
  {
   "cell_type": "code",
   "execution_count": 37,
   "id": "a13558de",
   "metadata": {
    "scrolled": false
   },
   "outputs": [
    {
     "data": {
      "text/plain": [
       "(100, 2)"
      ]
     },
     "execution_count": 37,
     "metadata": {},
     "output_type": "execute_result"
    }
   ],
   "source": [
    "X2 = X.copy()\n",
    "X_new = np.hstack((X, X2))\n",
    "X_new.shape"
   ]
  },
  {
   "cell_type": "markdown",
   "id": "4f593034",
   "metadata": {},
   "source": [
    "## 迴歸"
   ]
  },
  {
   "cell_type": "code",
   "execution_count": 38,
   "id": "bb7066b8",
   "metadata": {
    "scrolled": false
   },
   "outputs": [
    {
     "data": {
      "text/plain": [
       "0.9538252459635717"
      ]
     },
     "execution_count": 38,
     "metadata": {},
     "output_type": "execute_result"
    }
   ],
   "source": [
    "from sklearn.linear_model import LinearRegression\n",
    "model2 = LinearRegression()\n",
    "model2.fit(X_new, y)\n",
    "model2.score(X_new, y)"
   ]
  },
  {
   "cell_type": "code",
   "execution_count": 39,
   "id": "a8cd1a63",
   "metadata": {},
   "outputs": [
    {
     "data": {
      "text/plain": [
       "array([22.218585, 22.218585])"
      ]
     },
     "execution_count": 39,
     "metadata": {},
     "output_type": "execute_result"
    }
   ],
   "source": [
    "model2.coef_"
   ]
  },
  {
   "cell_type": "markdown",
   "id": "4e2d6e63",
   "metadata": {},
   "source": [
    "## 預測"
   ]
  },
  {
   "cell_type": "code",
   "execution_count": 40,
   "id": "57656551",
   "metadata": {},
   "outputs": [
    {
     "data": {
      "text/plain": [
       "array([223.35096528])"
      ]
     },
     "execution_count": 40,
     "metadata": {},
     "output_type": "execute_result"
    }
   ],
   "source": [
    "X_test = [[10, 0]]\n",
    "model2.predict(X_test)"
   ]
  },
  {
   "cell_type": "code",
   "execution_count": 41,
   "id": "b47274ed",
   "metadata": {},
   "outputs": [
    {
     "data": {
      "text/plain": [
       "array([445.53681524])"
      ]
     },
     "execution_count": 41,
     "metadata": {},
     "output_type": "execute_result"
    }
   ],
   "source": [
    "X_test = [[10, 10]]\n",
    "model2.predict(X_test)"
   ]
  },
  {
   "cell_type": "code",
   "execution_count": 42,
   "id": "fbc26ed6",
   "metadata": {},
   "outputs": [
    {
     "data": {
      "text/plain": [
       "array([445.53681524])"
      ]
     },
     "execution_count": 42,
     "metadata": {},
     "output_type": "execute_result"
    }
   ],
   "source": [
    "X_test = [[10]]\n",
    "model.predict(X_test)"
   ]
  },
  {
   "cell_type": "markdown",
   "id": "0272bda3",
   "metadata": {},
   "source": [
    "## Variance Inflation Factor(VIF)"
   ]
  },
  {
   "cell_type": "code",
   "execution_count": 46,
   "id": "b29a0ff6",
   "metadata": {},
   "outputs": [
    {
     "name": "stderr",
     "output_type": "stream",
     "text": [
      "C:\\Users\\mikec\\anaconda3\\lib\\site-packages\\statsmodels\\stats\\outliers_influence.py:195: RuntimeWarning: divide by zero encountered in double_scalars\n",
      "  vif = 1. / (1. - r_squared_i)\n"
     ]
    },
    {
     "data": {
      "text/plain": [
       "[inf, inf]"
      ]
     },
     "execution_count": 46,
     "metadata": {},
     "output_type": "execute_result"
    }
   ],
   "source": [
    "from statsmodels.stats.outliers_influence import variance_inflation_factor\n",
    "VIF = [variance_inflation_factor(X_new, i) for i in range(X_new.shape[1])]\n",
    "VIF"
   ]
  },
  {
   "cell_type": "markdown",
   "id": "94a046a4",
   "metadata": {},
   "source": [
    "## 修改自[Detecting Multicollinearity with VIF – Python](https://www.geeksforgeeks.org/detecting-multicollinearity-with-vif-python/)"
   ]
  },
  {
   "cell_type": "code",
   "execution_count": 53,
   "id": "112b96a2",
   "metadata": {},
   "outputs": [
    {
     "data": {
      "text/html": [
       "<div>\n",
       "<style scoped>\n",
       "    .dataframe tbody tr th:only-of-type {\n",
       "        vertical-align: middle;\n",
       "    }\n",
       "\n",
       "    .dataframe tbody tr th {\n",
       "        vertical-align: top;\n",
       "    }\n",
       "\n",
       "    .dataframe thead th {\n",
       "        text-align: right;\n",
       "    }\n",
       "</style>\n",
       "<table border=\"1\" class=\"dataframe\">\n",
       "  <thead>\n",
       "    <tr style=\"text-align: right;\">\n",
       "      <th></th>\n",
       "      <th>feature</th>\n",
       "      <th>VIF</th>\n",
       "    </tr>\n",
       "  </thead>\n",
       "  <tbody>\n",
       "    <tr>\n",
       "      <th>0</th>\n",
       "      <td>Gender</td>\n",
       "      <td>2.028864</td>\n",
       "    </tr>\n",
       "    <tr>\n",
       "      <th>1</th>\n",
       "      <td>Height</td>\n",
       "      <td>11.623103</td>\n",
       "    </tr>\n",
       "    <tr>\n",
       "      <th>2</th>\n",
       "      <td>Weight</td>\n",
       "      <td>10.688377</td>\n",
       "    </tr>\n",
       "  </tbody>\n",
       "</table>\n",
       "</div>"
      ],
      "text/plain": [
       "  feature        VIF\n",
       "0  Gender   2.028864\n",
       "1  Height  11.623103\n",
       "2  Weight  10.688377"
      ]
     },
     "execution_count": 53,
     "metadata": {},
     "output_type": "execute_result"
    }
   ],
   "source": [
    "# the dataset\n",
    "data = pd.read_csv('./data/BMI.csv')\n",
    "\n",
    "# creating dummies for gender\n",
    "data['Gender'] = data['Gender'].map({'Male':0, 'Female':1})\n",
    "\n",
    "# the independent variables set\n",
    "X = data[['Gender', 'Height', 'Weight']]\n",
    "\n",
    "# VIF dataframe\n",
    "vif_data = pd.DataFrame()\n",
    "vif_data[\"feature\"] = X.columns\n",
    "\n",
    "# calculating VIF for each feature\n",
    "vif_data[\"VIF\"] = [variance_inflation_factor(X.values, i) for i in range(len(X.columns))]\n",
    "\n",
    "vif_data"
   ]
  },
  {
   "cell_type": "markdown",
   "id": "16412986",
   "metadata": {},
   "source": [
    "## 'Height', 'Weight' 的VIF值很高，表示具高度多重共線性"
   ]
  },
  {
   "cell_type": "code",
   "execution_count": null,
   "id": "8d295865",
   "metadata": {},
   "outputs": [],
   "source": []
  }
 ],
 "metadata": {
  "kernelspec": {
   "display_name": "Python 3 (ipykernel)",
   "language": "python",
   "name": "python3"
  },
  "language_info": {
   "codemirror_mode": {
    "name": "ipython",
    "version": 3
   },
   "file_extension": ".py",
   "mimetype": "text/x-python",
   "name": "python",
   "nbconvert_exporter": "python",
   "pygments_lexer": "ipython3",
   "version": "3.9.13"
  }
 },
 "nbformat": 4,
 "nbformat_minor": 5
}
